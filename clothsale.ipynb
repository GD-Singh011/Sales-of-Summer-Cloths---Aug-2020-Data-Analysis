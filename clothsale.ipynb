{
 "metadata": {
  "language_info": {
   "codemirror_mode": {
    "name": "ipython",
    "version": 3
   },
   "file_extension": ".py",
   "mimetype": "text/x-python",
   "name": "python",
   "nbconvert_exporter": "python",
   "pygments_lexer": "ipython3",
   "version": "3.8.5-final"
  },
  "orig_nbformat": 2,
  "kernelspec": {
   "name": "python3",
   "display_name": "Python 3.8.5 64-bit (conda)",
   "metadata": {
    "interpreter": {
     "hash": "2aa27a249e8a736232bf8aa2990e9764d13a45404e495506f023cf9491471ac8"
    }
   }
  }
 },
 "nbformat": 4,
 "nbformat_minor": 2,
 "cells": [
  {
   "cell_type": "code",
   "execution_count": 1,
   "metadata": {},
   "outputs": [],
   "source": [
    "# Importing Important Liberaries!!!\n",
    "\n",
    "import numpy as np\n",
    "import pandas as pd \n",
    "from pandas import Series, DataFrame\n",
    "import seaborn as sns\n",
    "import matplotlib.pyplot as plt"
   ]
  },
  {
   "cell_type": "markdown",
   "metadata": {},
   "source": [
    "# 1. Load the csv file to pandas"
   ]
  },
  {
   "cell_type": "code",
   "execution_count": 2,
   "metadata": {},
   "outputs": [
    {
     "output_type": "execute_result",
     "data": {
      "text/plain": [
       "                                                  title  \\\n",
       "0     2020 Summer Vintage Flamingo Print  Pajamas Se...   \n",
       "1     SSHOUSE Summer Casual Sleeveless Soirée Party ...   \n",
       "2     2020 Nouvelle Arrivée Femmes Printemps et Été ...   \n",
       "3     Hot Summer Cool T-shirt pour les femmes Mode T...   \n",
       "4     Femmes Shorts d'été à lacets taille élastique ...   \n",
       "...                                                 ...   \n",
       "1568  Nouvelle Mode Femmes Bohême Pissenlit Imprimer...   \n",
       "1569  10 couleurs femmes shorts d'été lacent ceintur...   \n",
       "1570  Nouveautés Hommes Siwmwear Beach-Shorts Hommes...   \n",
       "1571  Mode femmes d'été sans manches robes col en V ...   \n",
       "1572  Pantalon de yoga pour femmes à la mode Slim Fi...   \n",
       "\n",
       "                                             title_orig  price  retail_price  \\\n",
       "0     2020 Summer Vintage Flamingo Print  Pajamas Se...  16.00            14   \n",
       "1      Women's Casual Summer Sleeveless Sexy Mini Dress   8.00            22   \n",
       "2     2020 New Arrival Women Spring and Summer Beach...   8.00            43   \n",
       "3     Hot Summer Cool T Shirt for Women Fashion Tops...   8.00             8   \n",
       "4     Women Summer Shorts Lace Up Elastic Waistband ...   2.72             3   \n",
       "...                                                 ...    ...           ...   \n",
       "1568  New Fashion Women Bohemia Dandelion Print Tee ...   6.00             9   \n",
       "1569  10 Color Women Summer Shorts Lace Up Elastic W...   2.00            56   \n",
       "1570  New Men Siwmwear Beach-Shorts Men Summer Quick...   5.00            19   \n",
       "1571  Fashion Women Summer Sleeveless Dresses V Neck...  13.00            11   \n",
       "1572  Fashion Women Yoga Pants Slim Fit Fitness Runn...   7.00             6   \n",
       "\n",
       "     currency_buyer  units_sold  uses_ad_boosts  rating  rating_count  \\\n",
       "0               EUR         100               0    3.76            54   \n",
       "1               EUR       20000               1    3.45          6135   \n",
       "2               EUR         100               0    3.57            14   \n",
       "3               EUR        5000               1    4.03           579   \n",
       "4               EUR         100               1    3.10            20   \n",
       "...             ...         ...             ...     ...           ...   \n",
       "1568            EUR       10000               1    4.08          1367   \n",
       "1569            EUR         100               1    3.07            28   \n",
       "1570            EUR         100               0    3.71            59   \n",
       "1571            EUR         100               0    2.50             2   \n",
       "1572            EUR         100               1    4.07            14   \n",
       "\n",
       "      rating_five_count  ...  merchant_rating_count  merchant_rating  \\\n",
       "0                  26.0  ...                    568         4.128521   \n",
       "1                2269.0  ...                  17752         3.899673   \n",
       "2                   5.0  ...                    295         3.989831   \n",
       "3                 295.0  ...                  23832         4.020435   \n",
       "4                   6.0  ...                  14482         4.001588   \n",
       "...                 ...  ...                    ...              ...   \n",
       "1568              722.0  ...                   5316         4.224605   \n",
       "1569               11.0  ...                   4435         3.696054   \n",
       "1570               24.0  ...                    210         3.961905   \n",
       "1571                0.0  ...                     31         3.774194   \n",
       "1572                8.0  ...                   7023         4.235939   \n",
       "\n",
       "                   merchant_id  merchant_has_profile_picture  \\\n",
       "0     595097d6a26f6e070cb878d1                             0   \n",
       "1     56458aa03a698c35c9050988                             0   \n",
       "2     5d464a1ffdf7bc44ee933c65                             0   \n",
       "3     58cfdefdacb37b556efdff7c                             0   \n",
       "4     5ab3b592c3911a095ad5dadb                             0   \n",
       "...                        ...                           ...   \n",
       "1568  5b507899ab577736508a0782                             0   \n",
       "1569  54d83b6b6b8a771e478558de                             0   \n",
       "1570  5b42da1bf64320209fc8da69                             0   \n",
       "1571  5d56b32c40defd78043d5af9                             0   \n",
       "1572  5a409cf87b584e7951b2e25f                             0   \n",
       "\n",
       "      merchant_profile_picture  \\\n",
       "0                          NaN   \n",
       "1                          NaN   \n",
       "2                          NaN   \n",
       "3                          NaN   \n",
       "4                          NaN   \n",
       "...                        ...   \n",
       "1568                       NaN   \n",
       "1569                       NaN   \n",
       "1570                       NaN   \n",
       "1571                       NaN   \n",
       "1572                       NaN   \n",
       "\n",
       "                                          product_url  \\\n",
       "0     https://www.wish.com/c/5e9ae51d43d6a96e303acdb0   \n",
       "1     https://www.wish.com/c/58940d436a0d3d5da4e95a38   \n",
       "2     https://www.wish.com/c/5ea10e2c617580260d55310a   \n",
       "3     https://www.wish.com/c/5cedf17ad1d44c52c59e4aca   \n",
       "4     https://www.wish.com/c/5ebf5819ebac372b070b0e70   \n",
       "...                                               ...   \n",
       "1568  https://www.wish.com/c/5d5fadc99febd9356cbc52ee   \n",
       "1569  https://www.wish.com/c/5eccd22b4497b86fd48f16b4   \n",
       "1570  https://www.wish.com/c/5e74be96034d613d42b52dfe   \n",
       "1571  https://www.wish.com/c/5eda07ab0e295c2097c36590   \n",
       "1572  https://www.wish.com/c/5e857321f53c3d2d8f25e7ed   \n",
       "\n",
       "                                        product_picture  \\\n",
       "0     https://contestimg.wish.com/api/webimage/5e9ae...   \n",
       "1     https://contestimg.wish.com/api/webimage/58940...   \n",
       "2     https://contestimg.wish.com/api/webimage/5ea10...   \n",
       "3     https://contestimg.wish.com/api/webimage/5cedf...   \n",
       "4     https://contestimg.wish.com/api/webimage/5ebf5...   \n",
       "...                                                 ...   \n",
       "1568  https://contestimg.wish.com/api/webimage/5d5fa...   \n",
       "1569  https://contestimg.wish.com/api/webimage/5eccd...   \n",
       "1570  https://contestimg.wish.com/api/webimage/5e74b...   \n",
       "1571  https://contestimg.wish.com/api/webimage/5eda0...   \n",
       "1572  https://contestimg.wish.com/api/webimage/5e857...   \n",
       "\n",
       "                    product_id   theme crawl_month  \n",
       "0     5e9ae51d43d6a96e303acdb0  summer     2020-08  \n",
       "1     58940d436a0d3d5da4e95a38  summer     2020-08  \n",
       "2     5ea10e2c617580260d55310a  summer     2020-08  \n",
       "3     5cedf17ad1d44c52c59e4aca  summer     2020-08  \n",
       "4     5ebf5819ebac372b070b0e70  summer     2020-08  \n",
       "...                        ...     ...         ...  \n",
       "1568  5d5fadc99febd9356cbc52ee  summer     2020-08  \n",
       "1569  5eccd22b4497b86fd48f16b4  summer     2020-08  \n",
       "1570  5e74be96034d613d42b52dfe  summer     2020-08  \n",
       "1571  5eda07ab0e295c2097c36590  summer     2020-08  \n",
       "1572  5e857321f53c3d2d8f25e7ed  summer     2020-08  \n",
       "\n",
       "[1573 rows x 43 columns]"
      ],
      "text/html": "<div>\n<style scoped>\n    .dataframe tbody tr th:only-of-type {\n        vertical-align: middle;\n    }\n\n    .dataframe tbody tr th {\n        vertical-align: top;\n    }\n\n    .dataframe thead th {\n        text-align: right;\n    }\n</style>\n<table border=\"1\" class=\"dataframe\">\n  <thead>\n    <tr style=\"text-align: right;\">\n      <th></th>\n      <th>title</th>\n      <th>title_orig</th>\n      <th>price</th>\n      <th>retail_price</th>\n      <th>currency_buyer</th>\n      <th>units_sold</th>\n      <th>uses_ad_boosts</th>\n      <th>rating</th>\n      <th>rating_count</th>\n      <th>rating_five_count</th>\n      <th>...</th>\n      <th>merchant_rating_count</th>\n      <th>merchant_rating</th>\n      <th>merchant_id</th>\n      <th>merchant_has_profile_picture</th>\n      <th>merchant_profile_picture</th>\n      <th>product_url</th>\n      <th>product_picture</th>\n      <th>product_id</th>\n      <th>theme</th>\n      <th>crawl_month</th>\n    </tr>\n  </thead>\n  <tbody>\n    <tr>\n      <th>0</th>\n      <td>2020 Summer Vintage Flamingo Print  Pajamas Se...</td>\n      <td>2020 Summer Vintage Flamingo Print  Pajamas Se...</td>\n      <td>16.00</td>\n      <td>14</td>\n      <td>EUR</td>\n      <td>100</td>\n      <td>0</td>\n      <td>3.76</td>\n      <td>54</td>\n      <td>26.0</td>\n      <td>...</td>\n      <td>568</td>\n      <td>4.128521</td>\n      <td>595097d6a26f6e070cb878d1</td>\n      <td>0</td>\n      <td>NaN</td>\n      <td>https://www.wish.com/c/5e9ae51d43d6a96e303acdb0</td>\n      <td>https://contestimg.wish.com/api/webimage/5e9ae...</td>\n      <td>5e9ae51d43d6a96e303acdb0</td>\n      <td>summer</td>\n      <td>2020-08</td>\n    </tr>\n    <tr>\n      <th>1</th>\n      <td>SSHOUSE Summer Casual Sleeveless Soirée Party ...</td>\n      <td>Women's Casual Summer Sleeveless Sexy Mini Dress</td>\n      <td>8.00</td>\n      <td>22</td>\n      <td>EUR</td>\n      <td>20000</td>\n      <td>1</td>\n      <td>3.45</td>\n      <td>6135</td>\n      <td>2269.0</td>\n      <td>...</td>\n      <td>17752</td>\n      <td>3.899673</td>\n      <td>56458aa03a698c35c9050988</td>\n      <td>0</td>\n      <td>NaN</td>\n      <td>https://www.wish.com/c/58940d436a0d3d5da4e95a38</td>\n      <td>https://contestimg.wish.com/api/webimage/58940...</td>\n      <td>58940d436a0d3d5da4e95a38</td>\n      <td>summer</td>\n      <td>2020-08</td>\n    </tr>\n    <tr>\n      <th>2</th>\n      <td>2020 Nouvelle Arrivée Femmes Printemps et Été ...</td>\n      <td>2020 New Arrival Women Spring and Summer Beach...</td>\n      <td>8.00</td>\n      <td>43</td>\n      <td>EUR</td>\n      <td>100</td>\n      <td>0</td>\n      <td>3.57</td>\n      <td>14</td>\n      <td>5.0</td>\n      <td>...</td>\n      <td>295</td>\n      <td>3.989831</td>\n      <td>5d464a1ffdf7bc44ee933c65</td>\n      <td>0</td>\n      <td>NaN</td>\n      <td>https://www.wish.com/c/5ea10e2c617580260d55310a</td>\n      <td>https://contestimg.wish.com/api/webimage/5ea10...</td>\n      <td>5ea10e2c617580260d55310a</td>\n      <td>summer</td>\n      <td>2020-08</td>\n    </tr>\n    <tr>\n      <th>3</th>\n      <td>Hot Summer Cool T-shirt pour les femmes Mode T...</td>\n      <td>Hot Summer Cool T Shirt for Women Fashion Tops...</td>\n      <td>8.00</td>\n      <td>8</td>\n      <td>EUR</td>\n      <td>5000</td>\n      <td>1</td>\n      <td>4.03</td>\n      <td>579</td>\n      <td>295.0</td>\n      <td>...</td>\n      <td>23832</td>\n      <td>4.020435</td>\n      <td>58cfdefdacb37b556efdff7c</td>\n      <td>0</td>\n      <td>NaN</td>\n      <td>https://www.wish.com/c/5cedf17ad1d44c52c59e4aca</td>\n      <td>https://contestimg.wish.com/api/webimage/5cedf...</td>\n      <td>5cedf17ad1d44c52c59e4aca</td>\n      <td>summer</td>\n      <td>2020-08</td>\n    </tr>\n    <tr>\n      <th>4</th>\n      <td>Femmes Shorts d'été à lacets taille élastique ...</td>\n      <td>Women Summer Shorts Lace Up Elastic Waistband ...</td>\n      <td>2.72</td>\n      <td>3</td>\n      <td>EUR</td>\n      <td>100</td>\n      <td>1</td>\n      <td>3.10</td>\n      <td>20</td>\n      <td>6.0</td>\n      <td>...</td>\n      <td>14482</td>\n      <td>4.001588</td>\n      <td>5ab3b592c3911a095ad5dadb</td>\n      <td>0</td>\n      <td>NaN</td>\n      <td>https://www.wish.com/c/5ebf5819ebac372b070b0e70</td>\n      <td>https://contestimg.wish.com/api/webimage/5ebf5...</td>\n      <td>5ebf5819ebac372b070b0e70</td>\n      <td>summer</td>\n      <td>2020-08</td>\n    </tr>\n    <tr>\n      <th>...</th>\n      <td>...</td>\n      <td>...</td>\n      <td>...</td>\n      <td>...</td>\n      <td>...</td>\n      <td>...</td>\n      <td>...</td>\n      <td>...</td>\n      <td>...</td>\n      <td>...</td>\n      <td>...</td>\n      <td>...</td>\n      <td>...</td>\n      <td>...</td>\n      <td>...</td>\n      <td>...</td>\n      <td>...</td>\n      <td>...</td>\n      <td>...</td>\n      <td>...</td>\n      <td>...</td>\n    </tr>\n    <tr>\n      <th>1568</th>\n      <td>Nouvelle Mode Femmes Bohême Pissenlit Imprimer...</td>\n      <td>New Fashion Women Bohemia Dandelion Print Tee ...</td>\n      <td>6.00</td>\n      <td>9</td>\n      <td>EUR</td>\n      <td>10000</td>\n      <td>1</td>\n      <td>4.08</td>\n      <td>1367</td>\n      <td>722.0</td>\n      <td>...</td>\n      <td>5316</td>\n      <td>4.224605</td>\n      <td>5b507899ab577736508a0782</td>\n      <td>0</td>\n      <td>NaN</td>\n      <td>https://www.wish.com/c/5d5fadc99febd9356cbc52ee</td>\n      <td>https://contestimg.wish.com/api/webimage/5d5fa...</td>\n      <td>5d5fadc99febd9356cbc52ee</td>\n      <td>summer</td>\n      <td>2020-08</td>\n    </tr>\n    <tr>\n      <th>1569</th>\n      <td>10 couleurs femmes shorts d'été lacent ceintur...</td>\n      <td>10 Color Women Summer Shorts Lace Up Elastic W...</td>\n      <td>2.00</td>\n      <td>56</td>\n      <td>EUR</td>\n      <td>100</td>\n      <td>1</td>\n      <td>3.07</td>\n      <td>28</td>\n      <td>11.0</td>\n      <td>...</td>\n      <td>4435</td>\n      <td>3.696054</td>\n      <td>54d83b6b6b8a771e478558de</td>\n      <td>0</td>\n      <td>NaN</td>\n      <td>https://www.wish.com/c/5eccd22b4497b86fd48f16b4</td>\n      <td>https://contestimg.wish.com/api/webimage/5eccd...</td>\n      <td>5eccd22b4497b86fd48f16b4</td>\n      <td>summer</td>\n      <td>2020-08</td>\n    </tr>\n    <tr>\n      <th>1570</th>\n      <td>Nouveautés Hommes Siwmwear Beach-Shorts Hommes...</td>\n      <td>New Men Siwmwear Beach-Shorts Men Summer Quick...</td>\n      <td>5.00</td>\n      <td>19</td>\n      <td>EUR</td>\n      <td>100</td>\n      <td>0</td>\n      <td>3.71</td>\n      <td>59</td>\n      <td>24.0</td>\n      <td>...</td>\n      <td>210</td>\n      <td>3.961905</td>\n      <td>5b42da1bf64320209fc8da69</td>\n      <td>0</td>\n      <td>NaN</td>\n      <td>https://www.wish.com/c/5e74be96034d613d42b52dfe</td>\n      <td>https://contestimg.wish.com/api/webimage/5e74b...</td>\n      <td>5e74be96034d613d42b52dfe</td>\n      <td>summer</td>\n      <td>2020-08</td>\n    </tr>\n    <tr>\n      <th>1571</th>\n      <td>Mode femmes d'été sans manches robes col en V ...</td>\n      <td>Fashion Women Summer Sleeveless Dresses V Neck...</td>\n      <td>13.00</td>\n      <td>11</td>\n      <td>EUR</td>\n      <td>100</td>\n      <td>0</td>\n      <td>2.50</td>\n      <td>2</td>\n      <td>0.0</td>\n      <td>...</td>\n      <td>31</td>\n      <td>3.774194</td>\n      <td>5d56b32c40defd78043d5af9</td>\n      <td>0</td>\n      <td>NaN</td>\n      <td>https://www.wish.com/c/5eda07ab0e295c2097c36590</td>\n      <td>https://contestimg.wish.com/api/webimage/5eda0...</td>\n      <td>5eda07ab0e295c2097c36590</td>\n      <td>summer</td>\n      <td>2020-08</td>\n    </tr>\n    <tr>\n      <th>1572</th>\n      <td>Pantalon de yoga pour femmes à la mode Slim Fi...</td>\n      <td>Fashion Women Yoga Pants Slim Fit Fitness Runn...</td>\n      <td>7.00</td>\n      <td>6</td>\n      <td>EUR</td>\n      <td>100</td>\n      <td>1</td>\n      <td>4.07</td>\n      <td>14</td>\n      <td>8.0</td>\n      <td>...</td>\n      <td>7023</td>\n      <td>4.235939</td>\n      <td>5a409cf87b584e7951b2e25f</td>\n      <td>0</td>\n      <td>NaN</td>\n      <td>https://www.wish.com/c/5e857321f53c3d2d8f25e7ed</td>\n      <td>https://contestimg.wish.com/api/webimage/5e857...</td>\n      <td>5e857321f53c3d2d8f25e7ed</td>\n      <td>summer</td>\n      <td>2020-08</td>\n    </tr>\n  </tbody>\n</table>\n<p>1573 rows × 43 columns</p>\n</div>"
     },
     "metadata": {},
     "execution_count": 2
    }
   ],
   "source": [
    "# loading data\n",
    "df = pd.read_csv(\"summer-products_2020-08.csv\")\n",
    "df"
   ]
  },
  {
   "cell_type": "markdown",
   "metadata": {},
   "source": [
    "# 2. Check which columns are present"
   ]
  },
  {
   "cell_type": "code",
   "execution_count": 3,
   "metadata": {
    "tags": []
   },
   "outputs": [
    {
     "output_type": "stream",
     "name": "stdout",
     "text": [
      "<class 'pandas.core.frame.DataFrame'>\nRangeIndex: 1573 entries, 0 to 1572\nData columns (total 43 columns):\n #   Column                        Non-Null Count  Dtype  \n---  ------                        --------------  -----  \n 0   title                         1573 non-null   object \n 1   title_orig                    1573 non-null   object \n 2   price                         1573 non-null   float64\n 3   retail_price                  1573 non-null   int64  \n 4   currency_buyer                1573 non-null   object \n 5   units_sold                    1573 non-null   int64  \n 6   uses_ad_boosts                1573 non-null   int64  \n 7   rating                        1573 non-null   float64\n 8   rating_count                  1573 non-null   int64  \n 9   rating_five_count             1528 non-null   float64\n 10  rating_four_count             1528 non-null   float64\n 11  rating_three_count            1528 non-null   float64\n 12  rating_two_count              1528 non-null   float64\n 13  rating_one_count              1528 non-null   float64\n 14  badges_count                  1573 non-null   int64  \n 15  badge_local_product           1573 non-null   int64  \n 16  badge_product_quality         1573 non-null   int64  \n 17  badge_fast_shipping           1573 non-null   int64  \n 18  tags                          1573 non-null   object \n 19  product_color                 1532 non-null   object \n 20  product_variation_size_id     1559 non-null   object \n 21  product_variation_inventory   1573 non-null   int64  \n 22  shipping_option_name          1573 non-null   object \n 23  shipping_option_price         1573 non-null   int64  \n 24  shipping_is_express           1573 non-null   int64  \n 25  countries_shipped_to          1573 non-null   int64  \n 26  inventory_total               1573 non-null   int64  \n 27  has_urgency_banner            473 non-null    float64\n 28  urgency_text                  473 non-null    object \n 29  origin_country                1556 non-null   object \n 30  merchant_title                1573 non-null   object \n 31  merchant_name                 1569 non-null   object \n 32  merchant_info_subtitle        1572 non-null   object \n 33  merchant_rating_count         1573 non-null   int64  \n 34  merchant_rating               1573 non-null   float64\n 35  merchant_id                   1573 non-null   object \n 36  merchant_has_profile_picture  1573 non-null   int64  \n 37  merchant_profile_picture      226 non-null    object \n 38  product_url                   1573 non-null   object \n 39  product_picture               1573 non-null   object \n 40  product_id                    1573 non-null   object \n 41  theme                         1573 non-null   object \n 42  crawl_month                   1573 non-null   object \ndtypes: float64(9), int64(15), object(19)\nmemory usage: 528.6+ KB\n"
     ]
    }
   ],
   "source": [
    "# Getting Info\n",
    "df.info()"
   ]
  },
  {
   "cell_type": "markdown",
   "metadata": {},
   "source": [
    "# 3. Check and drop duplicate values"
   ]
  },
  {
   "cell_type": "code",
   "execution_count": 4,
   "metadata": {},
   "outputs": [
    {
     "output_type": "execute_result",
     "data": {
      "text/plain": [
       "34"
      ]
     },
     "metadata": {},
     "execution_count": 4
    }
   ],
   "source": [
    "# checking duplicate values\n",
    "df.duplicated().sum()"
   ]
  },
  {
   "cell_type": "code",
   "execution_count": 5,
   "metadata": {},
   "outputs": [],
   "source": [
    "# Removing Duplicated Values\n",
    "df.drop_duplicates(inplace=True)"
   ]
  },
  {
   "cell_type": "code",
   "execution_count": 6,
   "metadata": {},
   "outputs": [
    {
     "output_type": "execute_result",
     "data": {
      "text/plain": [
       "                                                  title  \\\n",
       "0     2020 Summer Vintage Flamingo Print  Pajamas Se...   \n",
       "1     SSHOUSE Summer Casual Sleeveless Soirée Party ...   \n",
       "2     2020 Nouvelle Arrivée Femmes Printemps et Été ...   \n",
       "3     Hot Summer Cool T-shirt pour les femmes Mode T...   \n",
       "4     Femmes Shorts d'été à lacets taille élastique ...   \n",
       "...                                                 ...   \n",
       "1568  Nouvelle Mode Femmes Bohême Pissenlit Imprimer...   \n",
       "1569  10 couleurs femmes shorts d'été lacent ceintur...   \n",
       "1570  Nouveautés Hommes Siwmwear Beach-Shorts Hommes...   \n",
       "1571  Mode femmes d'été sans manches robes col en V ...   \n",
       "1572  Pantalon de yoga pour femmes à la mode Slim Fi...   \n",
       "\n",
       "                                             title_orig  price  retail_price  \\\n",
       "0     2020 Summer Vintage Flamingo Print  Pajamas Se...  16.00            14   \n",
       "1      Women's Casual Summer Sleeveless Sexy Mini Dress   8.00            22   \n",
       "2     2020 New Arrival Women Spring and Summer Beach...   8.00            43   \n",
       "3     Hot Summer Cool T Shirt for Women Fashion Tops...   8.00             8   \n",
       "4     Women Summer Shorts Lace Up Elastic Waistband ...   2.72             3   \n",
       "...                                                 ...    ...           ...   \n",
       "1568  New Fashion Women Bohemia Dandelion Print Tee ...   6.00             9   \n",
       "1569  10 Color Women Summer Shorts Lace Up Elastic W...   2.00            56   \n",
       "1570  New Men Siwmwear Beach-Shorts Men Summer Quick...   5.00            19   \n",
       "1571  Fashion Women Summer Sleeveless Dresses V Neck...  13.00            11   \n",
       "1572  Fashion Women Yoga Pants Slim Fit Fitness Runn...   7.00             6   \n",
       "\n",
       "     currency_buyer  units_sold  uses_ad_boosts  rating  rating_count  \\\n",
       "0               EUR         100               0    3.76            54   \n",
       "1               EUR       20000               1    3.45          6135   \n",
       "2               EUR         100               0    3.57            14   \n",
       "3               EUR        5000               1    4.03           579   \n",
       "4               EUR         100               1    3.10            20   \n",
       "...             ...         ...             ...     ...           ...   \n",
       "1568            EUR       10000               1    4.08          1367   \n",
       "1569            EUR         100               1    3.07            28   \n",
       "1570            EUR         100               0    3.71            59   \n",
       "1571            EUR         100               0    2.50             2   \n",
       "1572            EUR         100               1    4.07            14   \n",
       "\n",
       "      rating_five_count  ...  merchant_rating_count  merchant_rating  \\\n",
       "0                  26.0  ...                    568         4.128521   \n",
       "1                2269.0  ...                  17752         3.899673   \n",
       "2                   5.0  ...                    295         3.989831   \n",
       "3                 295.0  ...                  23832         4.020435   \n",
       "4                   6.0  ...                  14482         4.001588   \n",
       "...                 ...  ...                    ...              ...   \n",
       "1568              722.0  ...                   5316         4.224605   \n",
       "1569               11.0  ...                   4435         3.696054   \n",
       "1570               24.0  ...                    210         3.961905   \n",
       "1571                0.0  ...                     31         3.774194   \n",
       "1572                8.0  ...                   7023         4.235939   \n",
       "\n",
       "                   merchant_id  merchant_has_profile_picture  \\\n",
       "0     595097d6a26f6e070cb878d1                             0   \n",
       "1     56458aa03a698c35c9050988                             0   \n",
       "2     5d464a1ffdf7bc44ee933c65                             0   \n",
       "3     58cfdefdacb37b556efdff7c                             0   \n",
       "4     5ab3b592c3911a095ad5dadb                             0   \n",
       "...                        ...                           ...   \n",
       "1568  5b507899ab577736508a0782                             0   \n",
       "1569  54d83b6b6b8a771e478558de                             0   \n",
       "1570  5b42da1bf64320209fc8da69                             0   \n",
       "1571  5d56b32c40defd78043d5af9                             0   \n",
       "1572  5a409cf87b584e7951b2e25f                             0   \n",
       "\n",
       "      merchant_profile_picture  \\\n",
       "0                          NaN   \n",
       "1                          NaN   \n",
       "2                          NaN   \n",
       "3                          NaN   \n",
       "4                          NaN   \n",
       "...                        ...   \n",
       "1568                       NaN   \n",
       "1569                       NaN   \n",
       "1570                       NaN   \n",
       "1571                       NaN   \n",
       "1572                       NaN   \n",
       "\n",
       "                                          product_url  \\\n",
       "0     https://www.wish.com/c/5e9ae51d43d6a96e303acdb0   \n",
       "1     https://www.wish.com/c/58940d436a0d3d5da4e95a38   \n",
       "2     https://www.wish.com/c/5ea10e2c617580260d55310a   \n",
       "3     https://www.wish.com/c/5cedf17ad1d44c52c59e4aca   \n",
       "4     https://www.wish.com/c/5ebf5819ebac372b070b0e70   \n",
       "...                                               ...   \n",
       "1568  https://www.wish.com/c/5d5fadc99febd9356cbc52ee   \n",
       "1569  https://www.wish.com/c/5eccd22b4497b86fd48f16b4   \n",
       "1570  https://www.wish.com/c/5e74be96034d613d42b52dfe   \n",
       "1571  https://www.wish.com/c/5eda07ab0e295c2097c36590   \n",
       "1572  https://www.wish.com/c/5e857321f53c3d2d8f25e7ed   \n",
       "\n",
       "                                        product_picture  \\\n",
       "0     https://contestimg.wish.com/api/webimage/5e9ae...   \n",
       "1     https://contestimg.wish.com/api/webimage/58940...   \n",
       "2     https://contestimg.wish.com/api/webimage/5ea10...   \n",
       "3     https://contestimg.wish.com/api/webimage/5cedf...   \n",
       "4     https://contestimg.wish.com/api/webimage/5ebf5...   \n",
       "...                                                 ...   \n",
       "1568  https://contestimg.wish.com/api/webimage/5d5fa...   \n",
       "1569  https://contestimg.wish.com/api/webimage/5eccd...   \n",
       "1570  https://contestimg.wish.com/api/webimage/5e74b...   \n",
       "1571  https://contestimg.wish.com/api/webimage/5eda0...   \n",
       "1572  https://contestimg.wish.com/api/webimage/5e857...   \n",
       "\n",
       "                    product_id   theme crawl_month  \n",
       "0     5e9ae51d43d6a96e303acdb0  summer     2020-08  \n",
       "1     58940d436a0d3d5da4e95a38  summer     2020-08  \n",
       "2     5ea10e2c617580260d55310a  summer     2020-08  \n",
       "3     5cedf17ad1d44c52c59e4aca  summer     2020-08  \n",
       "4     5ebf5819ebac372b070b0e70  summer     2020-08  \n",
       "...                        ...     ...         ...  \n",
       "1568  5d5fadc99febd9356cbc52ee  summer     2020-08  \n",
       "1569  5eccd22b4497b86fd48f16b4  summer     2020-08  \n",
       "1570  5e74be96034d613d42b52dfe  summer     2020-08  \n",
       "1571  5eda07ab0e295c2097c36590  summer     2020-08  \n",
       "1572  5e857321f53c3d2d8f25e7ed  summer     2020-08  \n",
       "\n",
       "[1539 rows x 43 columns]"
      ],
      "text/html": "<div>\n<style scoped>\n    .dataframe tbody tr th:only-of-type {\n        vertical-align: middle;\n    }\n\n    .dataframe tbody tr th {\n        vertical-align: top;\n    }\n\n    .dataframe thead th {\n        text-align: right;\n    }\n</style>\n<table border=\"1\" class=\"dataframe\">\n  <thead>\n    <tr style=\"text-align: right;\">\n      <th></th>\n      <th>title</th>\n      <th>title_orig</th>\n      <th>price</th>\n      <th>retail_price</th>\n      <th>currency_buyer</th>\n      <th>units_sold</th>\n      <th>uses_ad_boosts</th>\n      <th>rating</th>\n      <th>rating_count</th>\n      <th>rating_five_count</th>\n      <th>...</th>\n      <th>merchant_rating_count</th>\n      <th>merchant_rating</th>\n      <th>merchant_id</th>\n      <th>merchant_has_profile_picture</th>\n      <th>merchant_profile_picture</th>\n      <th>product_url</th>\n      <th>product_picture</th>\n      <th>product_id</th>\n      <th>theme</th>\n      <th>crawl_month</th>\n    </tr>\n  </thead>\n  <tbody>\n    <tr>\n      <th>0</th>\n      <td>2020 Summer Vintage Flamingo Print  Pajamas Se...</td>\n      <td>2020 Summer Vintage Flamingo Print  Pajamas Se...</td>\n      <td>16.00</td>\n      <td>14</td>\n      <td>EUR</td>\n      <td>100</td>\n      <td>0</td>\n      <td>3.76</td>\n      <td>54</td>\n      <td>26.0</td>\n      <td>...</td>\n      <td>568</td>\n      <td>4.128521</td>\n      <td>595097d6a26f6e070cb878d1</td>\n      <td>0</td>\n      <td>NaN</td>\n      <td>https://www.wish.com/c/5e9ae51d43d6a96e303acdb0</td>\n      <td>https://contestimg.wish.com/api/webimage/5e9ae...</td>\n      <td>5e9ae51d43d6a96e303acdb0</td>\n      <td>summer</td>\n      <td>2020-08</td>\n    </tr>\n    <tr>\n      <th>1</th>\n      <td>SSHOUSE Summer Casual Sleeveless Soirée Party ...</td>\n      <td>Women's Casual Summer Sleeveless Sexy Mini Dress</td>\n      <td>8.00</td>\n      <td>22</td>\n      <td>EUR</td>\n      <td>20000</td>\n      <td>1</td>\n      <td>3.45</td>\n      <td>6135</td>\n      <td>2269.0</td>\n      <td>...</td>\n      <td>17752</td>\n      <td>3.899673</td>\n      <td>56458aa03a698c35c9050988</td>\n      <td>0</td>\n      <td>NaN</td>\n      <td>https://www.wish.com/c/58940d436a0d3d5da4e95a38</td>\n      <td>https://contestimg.wish.com/api/webimage/58940...</td>\n      <td>58940d436a0d3d5da4e95a38</td>\n      <td>summer</td>\n      <td>2020-08</td>\n    </tr>\n    <tr>\n      <th>2</th>\n      <td>2020 Nouvelle Arrivée Femmes Printemps et Été ...</td>\n      <td>2020 New Arrival Women Spring and Summer Beach...</td>\n      <td>8.00</td>\n      <td>43</td>\n      <td>EUR</td>\n      <td>100</td>\n      <td>0</td>\n      <td>3.57</td>\n      <td>14</td>\n      <td>5.0</td>\n      <td>...</td>\n      <td>295</td>\n      <td>3.989831</td>\n      <td>5d464a1ffdf7bc44ee933c65</td>\n      <td>0</td>\n      <td>NaN</td>\n      <td>https://www.wish.com/c/5ea10e2c617580260d55310a</td>\n      <td>https://contestimg.wish.com/api/webimage/5ea10...</td>\n      <td>5ea10e2c617580260d55310a</td>\n      <td>summer</td>\n      <td>2020-08</td>\n    </tr>\n    <tr>\n      <th>3</th>\n      <td>Hot Summer Cool T-shirt pour les femmes Mode T...</td>\n      <td>Hot Summer Cool T Shirt for Women Fashion Tops...</td>\n      <td>8.00</td>\n      <td>8</td>\n      <td>EUR</td>\n      <td>5000</td>\n      <td>1</td>\n      <td>4.03</td>\n      <td>579</td>\n      <td>295.0</td>\n      <td>...</td>\n      <td>23832</td>\n      <td>4.020435</td>\n      <td>58cfdefdacb37b556efdff7c</td>\n      <td>0</td>\n      <td>NaN</td>\n      <td>https://www.wish.com/c/5cedf17ad1d44c52c59e4aca</td>\n      <td>https://contestimg.wish.com/api/webimage/5cedf...</td>\n      <td>5cedf17ad1d44c52c59e4aca</td>\n      <td>summer</td>\n      <td>2020-08</td>\n    </tr>\n    <tr>\n      <th>4</th>\n      <td>Femmes Shorts d'été à lacets taille élastique ...</td>\n      <td>Women Summer Shorts Lace Up Elastic Waistband ...</td>\n      <td>2.72</td>\n      <td>3</td>\n      <td>EUR</td>\n      <td>100</td>\n      <td>1</td>\n      <td>3.10</td>\n      <td>20</td>\n      <td>6.0</td>\n      <td>...</td>\n      <td>14482</td>\n      <td>4.001588</td>\n      <td>5ab3b592c3911a095ad5dadb</td>\n      <td>0</td>\n      <td>NaN</td>\n      <td>https://www.wish.com/c/5ebf5819ebac372b070b0e70</td>\n      <td>https://contestimg.wish.com/api/webimage/5ebf5...</td>\n      <td>5ebf5819ebac372b070b0e70</td>\n      <td>summer</td>\n      <td>2020-08</td>\n    </tr>\n    <tr>\n      <th>...</th>\n      <td>...</td>\n      <td>...</td>\n      <td>...</td>\n      <td>...</td>\n      <td>...</td>\n      <td>...</td>\n      <td>...</td>\n      <td>...</td>\n      <td>...</td>\n      <td>...</td>\n      <td>...</td>\n      <td>...</td>\n      <td>...</td>\n      <td>...</td>\n      <td>...</td>\n      <td>...</td>\n      <td>...</td>\n      <td>...</td>\n      <td>...</td>\n      <td>...</td>\n      <td>...</td>\n    </tr>\n    <tr>\n      <th>1568</th>\n      <td>Nouvelle Mode Femmes Bohême Pissenlit Imprimer...</td>\n      <td>New Fashion Women Bohemia Dandelion Print Tee ...</td>\n      <td>6.00</td>\n      <td>9</td>\n      <td>EUR</td>\n      <td>10000</td>\n      <td>1</td>\n      <td>4.08</td>\n      <td>1367</td>\n      <td>722.0</td>\n      <td>...</td>\n      <td>5316</td>\n      <td>4.224605</td>\n      <td>5b507899ab577736508a0782</td>\n      <td>0</td>\n      <td>NaN</td>\n      <td>https://www.wish.com/c/5d5fadc99febd9356cbc52ee</td>\n      <td>https://contestimg.wish.com/api/webimage/5d5fa...</td>\n      <td>5d5fadc99febd9356cbc52ee</td>\n      <td>summer</td>\n      <td>2020-08</td>\n    </tr>\n    <tr>\n      <th>1569</th>\n      <td>10 couleurs femmes shorts d'été lacent ceintur...</td>\n      <td>10 Color Women Summer Shorts Lace Up Elastic W...</td>\n      <td>2.00</td>\n      <td>56</td>\n      <td>EUR</td>\n      <td>100</td>\n      <td>1</td>\n      <td>3.07</td>\n      <td>28</td>\n      <td>11.0</td>\n      <td>...</td>\n      <td>4435</td>\n      <td>3.696054</td>\n      <td>54d83b6b6b8a771e478558de</td>\n      <td>0</td>\n      <td>NaN</td>\n      <td>https://www.wish.com/c/5eccd22b4497b86fd48f16b4</td>\n      <td>https://contestimg.wish.com/api/webimage/5eccd...</td>\n      <td>5eccd22b4497b86fd48f16b4</td>\n      <td>summer</td>\n      <td>2020-08</td>\n    </tr>\n    <tr>\n      <th>1570</th>\n      <td>Nouveautés Hommes Siwmwear Beach-Shorts Hommes...</td>\n      <td>New Men Siwmwear Beach-Shorts Men Summer Quick...</td>\n      <td>5.00</td>\n      <td>19</td>\n      <td>EUR</td>\n      <td>100</td>\n      <td>0</td>\n      <td>3.71</td>\n      <td>59</td>\n      <td>24.0</td>\n      <td>...</td>\n      <td>210</td>\n      <td>3.961905</td>\n      <td>5b42da1bf64320209fc8da69</td>\n      <td>0</td>\n      <td>NaN</td>\n      <td>https://www.wish.com/c/5e74be96034d613d42b52dfe</td>\n      <td>https://contestimg.wish.com/api/webimage/5e74b...</td>\n      <td>5e74be96034d613d42b52dfe</td>\n      <td>summer</td>\n      <td>2020-08</td>\n    </tr>\n    <tr>\n      <th>1571</th>\n      <td>Mode femmes d'été sans manches robes col en V ...</td>\n      <td>Fashion Women Summer Sleeveless Dresses V Neck...</td>\n      <td>13.00</td>\n      <td>11</td>\n      <td>EUR</td>\n      <td>100</td>\n      <td>0</td>\n      <td>2.50</td>\n      <td>2</td>\n      <td>0.0</td>\n      <td>...</td>\n      <td>31</td>\n      <td>3.774194</td>\n      <td>5d56b32c40defd78043d5af9</td>\n      <td>0</td>\n      <td>NaN</td>\n      <td>https://www.wish.com/c/5eda07ab0e295c2097c36590</td>\n      <td>https://contestimg.wish.com/api/webimage/5eda0...</td>\n      <td>5eda07ab0e295c2097c36590</td>\n      <td>summer</td>\n      <td>2020-08</td>\n    </tr>\n    <tr>\n      <th>1572</th>\n      <td>Pantalon de yoga pour femmes à la mode Slim Fi...</td>\n      <td>Fashion Women Yoga Pants Slim Fit Fitness Runn...</td>\n      <td>7.00</td>\n      <td>6</td>\n      <td>EUR</td>\n      <td>100</td>\n      <td>1</td>\n      <td>4.07</td>\n      <td>14</td>\n      <td>8.0</td>\n      <td>...</td>\n      <td>7023</td>\n      <td>4.235939</td>\n      <td>5a409cf87b584e7951b2e25f</td>\n      <td>0</td>\n      <td>NaN</td>\n      <td>https://www.wish.com/c/5e857321f53c3d2d8f25e7ed</td>\n      <td>https://contestimg.wish.com/api/webimage/5e857...</td>\n      <td>5e857321f53c3d2d8f25e7ed</td>\n      <td>summer</td>\n      <td>2020-08</td>\n    </tr>\n  </tbody>\n</table>\n<p>1539 rows × 43 columns</p>\n</div>"
     },
     "metadata": {},
     "execution_count": 6
    }
   ],
   "source": [
    "# Copying the data to a new variable\n",
    "df1 = df.copy()\n",
    "df1"
   ]
  },
  {
   "cell_type": "markdown",
   "metadata": {},
   "source": [
    "# 4. Check the null values (When you execute sp.info(), you can see that various columns have lesser number of records than others that shows the presence of null values)"
   ]
  },
  {
   "cell_type": "code",
   "execution_count": 7,
   "metadata": {},
   "outputs": [
    {
     "output_type": "execute_result",
     "data": {
      "text/plain": [
       "title                              0\n",
       "title_orig                         0\n",
       "price                              0\n",
       "retail_price                       0\n",
       "currency_buyer                     0\n",
       "units_sold                         0\n",
       "uses_ad_boosts                     0\n",
       "rating                             0\n",
       "rating_count                       0\n",
       "rating_five_count                 43\n",
       "rating_four_count                 43\n",
       "rating_three_count                43\n",
       "rating_two_count                  43\n",
       "rating_one_count                  43\n",
       "badges_count                       0\n",
       "badge_local_product                0\n",
       "badge_product_quality              0\n",
       "badge_fast_shipping                0\n",
       "tags                               0\n",
       "product_color                     41\n",
       "product_variation_size_id         14\n",
       "product_variation_inventory        0\n",
       "shipping_option_name               0\n",
       "shipping_option_price              0\n",
       "shipping_is_express                0\n",
       "countries_shipped_to               0\n",
       "inventory_total                    0\n",
       "has_urgency_banner              1071\n",
       "urgency_text                    1071\n",
       "origin_country                    16\n",
       "merchant_title                     0\n",
       "merchant_name                      3\n",
       "merchant_info_subtitle             1\n",
       "merchant_rating_count              0\n",
       "merchant_rating                    0\n",
       "merchant_id                        0\n",
       "merchant_has_profile_picture       0\n",
       "merchant_profile_picture        1314\n",
       "product_url                        0\n",
       "product_picture                    0\n",
       "product_id                         0\n",
       "theme                              0\n",
       "crawl_month                        0\n",
       "dtype: int64"
      ]
     },
     "metadata": {},
     "execution_count": 7
    }
   ],
   "source": [
    "# Checking Null Values\n",
    "df1.isnull().sum()"
   ]
  },
  {
   "cell_type": "markdown",
   "metadata": {},
   "source": [
    "# 5. Count the number of null values in each column. Analyze the possible reasons for the missing value and document the findings if any"
   ]
  },
  {
   "cell_type": "code",
   "execution_count": 8,
   "metadata": {},
   "outputs": [
    {
     "output_type": "execute_result",
     "data": {
      "text/plain": [
       "       title  title_orig  price  retail_price  currency_buyer  units_sold  \\\n",
       "nulls      0           0      0             0               0           0   \n",
       "\n",
       "       uses_ad_boosts  rating  rating_count  rating_five_count  ...  \\\n",
       "nulls               0       0             0                 43  ...   \n",
       "\n",
       "       merchant_rating_count  merchant_rating  merchant_id  \\\n",
       "nulls                      0                0            0   \n",
       "\n",
       "       merchant_has_profile_picture  merchant_profile_picture  product_url  \\\n",
       "nulls                             0                      1314            0   \n",
       "\n",
       "       product_picture  product_id  theme  crawl_month  \n",
       "nulls                0           0      0            0  \n",
       "\n",
       "[1 rows x 43 columns]"
      ],
      "text/html": "<div>\n<style scoped>\n    .dataframe tbody tr th:only-of-type {\n        vertical-align: middle;\n    }\n\n    .dataframe tbody tr th {\n        vertical-align: top;\n    }\n\n    .dataframe thead th {\n        text-align: right;\n    }\n</style>\n<table border=\"1\" class=\"dataframe\">\n  <thead>\n    <tr style=\"text-align: right;\">\n      <th></th>\n      <th>title</th>\n      <th>title_orig</th>\n      <th>price</th>\n      <th>retail_price</th>\n      <th>currency_buyer</th>\n      <th>units_sold</th>\n      <th>uses_ad_boosts</th>\n      <th>rating</th>\n      <th>rating_count</th>\n      <th>rating_five_count</th>\n      <th>...</th>\n      <th>merchant_rating_count</th>\n      <th>merchant_rating</th>\n      <th>merchant_id</th>\n      <th>merchant_has_profile_picture</th>\n      <th>merchant_profile_picture</th>\n      <th>product_url</th>\n      <th>product_picture</th>\n      <th>product_id</th>\n      <th>theme</th>\n      <th>crawl_month</th>\n    </tr>\n  </thead>\n  <tbody>\n    <tr>\n      <th>nulls</th>\n      <td>0</td>\n      <td>0</td>\n      <td>0</td>\n      <td>0</td>\n      <td>0</td>\n      <td>0</td>\n      <td>0</td>\n      <td>0</td>\n      <td>0</td>\n      <td>43</td>\n      <td>...</td>\n      <td>0</td>\n      <td>0</td>\n      <td>0</td>\n      <td>0</td>\n      <td>1314</td>\n      <td>0</td>\n      <td>0</td>\n      <td>0</td>\n      <td>0</td>\n      <td>0</td>\n    </tr>\n  </tbody>\n</table>\n<p>1 rows × 43 columns</p>\n</div>"
     },
     "metadata": {},
     "execution_count": 8
    }
   ],
   "source": [
    "null = df1.isnull().sum().to_frame(name='nulls').T\n",
    "null"
   ]
  },
  {
   "cell_type": "code",
   "execution_count": 9,
   "metadata": {},
   "outputs": [
    {
     "output_type": "execute_result",
     "data": {
      "text/plain": [
       "         title title_orig    price retail_price currency_buyer units_sold  \\\n",
       "dtypes  object     object  float64        int64         object      int64   \n",
       "\n",
       "       uses_ad_boosts   rating rating_count rating_five_count  ...  \\\n",
       "dtypes          int64  float64        int64           float64  ...   \n",
       "\n",
       "       merchant_rating_count merchant_rating merchant_id  \\\n",
       "dtypes                 int64         float64      object   \n",
       "\n",
       "       merchant_has_profile_picture merchant_profile_picture product_url  \\\n",
       "dtypes                        int64                   object      object   \n",
       "\n",
       "       product_picture product_id   theme crawl_month  \n",
       "dtypes          object     object  object      object  \n",
       "\n",
       "[1 rows x 43 columns]"
      ],
      "text/html": "<div>\n<style scoped>\n    .dataframe tbody tr th:only-of-type {\n        vertical-align: middle;\n    }\n\n    .dataframe tbody tr th {\n        vertical-align: top;\n    }\n\n    .dataframe thead th {\n        text-align: right;\n    }\n</style>\n<table border=\"1\" class=\"dataframe\">\n  <thead>\n    <tr style=\"text-align: right;\">\n      <th></th>\n      <th>title</th>\n      <th>title_orig</th>\n      <th>price</th>\n      <th>retail_price</th>\n      <th>currency_buyer</th>\n      <th>units_sold</th>\n      <th>uses_ad_boosts</th>\n      <th>rating</th>\n      <th>rating_count</th>\n      <th>rating_five_count</th>\n      <th>...</th>\n      <th>merchant_rating_count</th>\n      <th>merchant_rating</th>\n      <th>merchant_id</th>\n      <th>merchant_has_profile_picture</th>\n      <th>merchant_profile_picture</th>\n      <th>product_url</th>\n      <th>product_picture</th>\n      <th>product_id</th>\n      <th>theme</th>\n      <th>crawl_month</th>\n    </tr>\n  </thead>\n  <tbody>\n    <tr>\n      <th>dtypes</th>\n      <td>object</td>\n      <td>object</td>\n      <td>float64</td>\n      <td>int64</td>\n      <td>object</td>\n      <td>int64</td>\n      <td>int64</td>\n      <td>float64</td>\n      <td>int64</td>\n      <td>float64</td>\n      <td>...</td>\n      <td>int64</td>\n      <td>float64</td>\n      <td>object</td>\n      <td>int64</td>\n      <td>object</td>\n      <td>object</td>\n      <td>object</td>\n      <td>object</td>\n      <td>object</td>\n      <td>object</td>\n    </tr>\n  </tbody>\n</table>\n<p>1 rows × 43 columns</p>\n</div>"
     },
     "metadata": {},
     "execution_count": 9
    }
   ],
   "source": [
    "dtype = df1.dtypes.to_frame(name='dtypes').T\n",
    "dtype"
   ]
  },
  {
   "cell_type": "code",
   "execution_count": 10,
   "metadata": {},
   "outputs": [
    {
     "output_type": "execute_result",
     "data": {
      "text/plain": [
       "        title  title_orig  price  retail_price  currency_buyer  units_sold  \\\n",
       "unique   1201        1203    127           104               1          15   \n",
       "\n",
       "        uses_ad_boosts  rating  rating_count  rating_five_count  ...  \\\n",
       "unique               2     192           761                605  ...   \n",
       "\n",
       "        merchant_rating_count  merchant_rating  merchant_id  \\\n",
       "unique                    917              952          958   \n",
       "\n",
       "        merchant_has_profile_picture  merchant_profile_picture  product_url  \\\n",
       "unique                             2                       125         1341   \n",
       "\n",
       "        product_picture  product_id  theme  crawl_month  \n",
       "unique             1341        1341      1            1  \n",
       "\n",
       "[1 rows x 43 columns]"
      ],
      "text/html": "<div>\n<style scoped>\n    .dataframe tbody tr th:only-of-type {\n        vertical-align: middle;\n    }\n\n    .dataframe tbody tr th {\n        vertical-align: top;\n    }\n\n    .dataframe thead th {\n        text-align: right;\n    }\n</style>\n<table border=\"1\" class=\"dataframe\">\n  <thead>\n    <tr style=\"text-align: right;\">\n      <th></th>\n      <th>title</th>\n      <th>title_orig</th>\n      <th>price</th>\n      <th>retail_price</th>\n      <th>currency_buyer</th>\n      <th>units_sold</th>\n      <th>uses_ad_boosts</th>\n      <th>rating</th>\n      <th>rating_count</th>\n      <th>rating_five_count</th>\n      <th>...</th>\n      <th>merchant_rating_count</th>\n      <th>merchant_rating</th>\n      <th>merchant_id</th>\n      <th>merchant_has_profile_picture</th>\n      <th>merchant_profile_picture</th>\n      <th>product_url</th>\n      <th>product_picture</th>\n      <th>product_id</th>\n      <th>theme</th>\n      <th>crawl_month</th>\n    </tr>\n  </thead>\n  <tbody>\n    <tr>\n      <th>unique</th>\n      <td>1201</td>\n      <td>1203</td>\n      <td>127</td>\n      <td>104</td>\n      <td>1</td>\n      <td>15</td>\n      <td>2</td>\n      <td>192</td>\n      <td>761</td>\n      <td>605</td>\n      <td>...</td>\n      <td>917</td>\n      <td>952</td>\n      <td>958</td>\n      <td>2</td>\n      <td>125</td>\n      <td>1341</td>\n      <td>1341</td>\n      <td>1341</td>\n      <td>1</td>\n      <td>1</td>\n    </tr>\n  </tbody>\n</table>\n<p>1 rows × 43 columns</p>\n</div>"
     },
     "metadata": {},
     "execution_count": 10
    }
   ],
   "source": [
    "nunique = df1.nunique().to_frame(name='unique').T\n",
    "nunique"
   ]
  },
  {
   "cell_type": "code",
   "execution_count": 11,
   "metadata": {},
   "outputs": [
    {
     "output_type": "execute_result",
     "data": {
      "text/plain": [
       "         title title_orig    price retail_price currency_buyer units_sold  \\\n",
       "nulls        0          0        0            0              0          0   \n",
       "dtypes  object     object  float64        int64         object      int64   \n",
       "unique    1201       1203      127          104              1         15   \n",
       "\n",
       "       uses_ad_boosts   rating rating_count rating_five_count  ...  \\\n",
       "nulls               0        0            0                43  ...   \n",
       "dtypes          int64  float64        int64           float64  ...   \n",
       "unique              2      192          761               605  ...   \n",
       "\n",
       "       merchant_rating_count merchant_rating merchant_id  \\\n",
       "nulls                      0               0           0   \n",
       "dtypes                 int64         float64      object   \n",
       "unique                   917             952         958   \n",
       "\n",
       "       merchant_has_profile_picture merchant_profile_picture product_url  \\\n",
       "nulls                             0                     1314           0   \n",
       "dtypes                        int64                   object      object   \n",
       "unique                            2                      125        1341   \n",
       "\n",
       "       product_picture product_id   theme crawl_month  \n",
       "nulls                0          0       0           0  \n",
       "dtypes          object     object  object      object  \n",
       "unique            1341       1341       1           1  \n",
       "\n",
       "[3 rows x 43 columns]"
      ],
      "text/html": "<div>\n<style scoped>\n    .dataframe tbody tr th:only-of-type {\n        vertical-align: middle;\n    }\n\n    .dataframe tbody tr th {\n        vertical-align: top;\n    }\n\n    .dataframe thead th {\n        text-align: right;\n    }\n</style>\n<table border=\"1\" class=\"dataframe\">\n  <thead>\n    <tr style=\"text-align: right;\">\n      <th></th>\n      <th>title</th>\n      <th>title_orig</th>\n      <th>price</th>\n      <th>retail_price</th>\n      <th>currency_buyer</th>\n      <th>units_sold</th>\n      <th>uses_ad_boosts</th>\n      <th>rating</th>\n      <th>rating_count</th>\n      <th>rating_five_count</th>\n      <th>...</th>\n      <th>merchant_rating_count</th>\n      <th>merchant_rating</th>\n      <th>merchant_id</th>\n      <th>merchant_has_profile_picture</th>\n      <th>merchant_profile_picture</th>\n      <th>product_url</th>\n      <th>product_picture</th>\n      <th>product_id</th>\n      <th>theme</th>\n      <th>crawl_month</th>\n    </tr>\n  </thead>\n  <tbody>\n    <tr>\n      <th>nulls</th>\n      <td>0</td>\n      <td>0</td>\n      <td>0</td>\n      <td>0</td>\n      <td>0</td>\n      <td>0</td>\n      <td>0</td>\n      <td>0</td>\n      <td>0</td>\n      <td>43</td>\n      <td>...</td>\n      <td>0</td>\n      <td>0</td>\n      <td>0</td>\n      <td>0</td>\n      <td>1314</td>\n      <td>0</td>\n      <td>0</td>\n      <td>0</td>\n      <td>0</td>\n      <td>0</td>\n    </tr>\n    <tr>\n      <th>dtypes</th>\n      <td>object</td>\n      <td>object</td>\n      <td>float64</td>\n      <td>int64</td>\n      <td>object</td>\n      <td>int64</td>\n      <td>int64</td>\n      <td>float64</td>\n      <td>int64</td>\n      <td>float64</td>\n      <td>...</td>\n      <td>int64</td>\n      <td>float64</td>\n      <td>object</td>\n      <td>int64</td>\n      <td>object</td>\n      <td>object</td>\n      <td>object</td>\n      <td>object</td>\n      <td>object</td>\n      <td>object</td>\n    </tr>\n    <tr>\n      <th>unique</th>\n      <td>1201</td>\n      <td>1203</td>\n      <td>127</td>\n      <td>104</td>\n      <td>1</td>\n      <td>15</td>\n      <td>2</td>\n      <td>192</td>\n      <td>761</td>\n      <td>605</td>\n      <td>...</td>\n      <td>917</td>\n      <td>952</td>\n      <td>958</td>\n      <td>2</td>\n      <td>125</td>\n      <td>1341</td>\n      <td>1341</td>\n      <td>1341</td>\n      <td>1</td>\n      <td>1</td>\n    </tr>\n  </tbody>\n</table>\n<p>3 rows × 43 columns</p>\n</div>"
     },
     "metadata": {},
     "execution_count": 11
    }
   ],
   "source": [
    "pd.concat([null,dtype,nunique],axis=0)"
   ]
  },
  {
   "cell_type": "markdown",
   "metadata": {},
   "source": [
    "# 6. Calculate count, mean, std, min, 25%, 50%, 75%, max values for each column. Prepare an analysis of the difference between mean and median for each column and possible reasons for the same. "
   ]
  },
  {
   "cell_type": "code",
   "execution_count": 12,
   "metadata": {},
   "outputs": [
    {
     "output_type": "execute_result",
     "data": {
      "text/plain": [
       "        price  retail_price  units_sold  uses_ad_boosts  rating  rating_count  \\\n",
       "count  1539.0        1539.0      1539.0          1539.0  1539.0        1539.0   \n",
       "mean      8.0          23.0      4422.0             0.0     4.0         907.0   \n",
       "std       4.0          30.0      9438.0             0.0     1.0        2002.0   \n",
       "min       1.0           1.0         1.0             0.0     1.0           0.0   \n",
       "25%       6.0           7.0       100.0             0.0     4.0          26.0   \n",
       "50%       8.0          10.0      1000.0             0.0     4.0         161.0   \n",
       "75%      11.0          26.0      5000.0             1.0     4.0         873.0   \n",
       "max      49.0         252.0    100000.0             1.0     5.0       20744.0   \n",
       "\n",
       "       rating_five_count  rating_four_count  rating_three_count  \\\n",
       "count             1496.0             1496.0              1496.0   \n",
       "mean               451.0              183.0               137.0   \n",
       "std                989.0              404.0               314.0   \n",
       "min                  0.0                0.0                 0.0   \n",
       "25%                 13.0                5.0                 4.0   \n",
       "50%                 84.0               33.0                26.0   \n",
       "75%                431.0              171.0               134.0   \n",
       "max              11548.0             4152.0              3658.0   \n",
       "\n",
       "       rating_two_count  ...  badge_fast_shipping  \\\n",
       "count            1496.0  ...               1539.0   \n",
       "mean               65.0  ...                  0.0   \n",
       "std               153.0  ...                  0.0   \n",
       "min                 0.0  ...                  0.0   \n",
       "25%                 2.0  ...                  0.0   \n",
       "50%                12.0  ...                  0.0   \n",
       "75%                64.0  ...                  0.0   \n",
       "max              2003.0  ...                  1.0   \n",
       "\n",
       "       product_variation_inventory  shipping_option_price  \\\n",
       "count                       1539.0                 1539.0   \n",
       "mean                          33.0                    2.0   \n",
       "std                           21.0                    1.0   \n",
       "min                            1.0                    1.0   \n",
       "25%                            7.0                    2.0   \n",
       "50%                           50.0                    2.0   \n",
       "75%                           50.0                    3.0   \n",
       "max                           50.0                   12.0   \n",
       "\n",
       "       shipping_is_express  countries_shipped_to  inventory_total  \\\n",
       "count               1539.0                1539.0           1539.0   \n",
       "mean                   0.0                  40.0             50.0   \n",
       "std                    0.0                  20.0              3.0   \n",
       "min                    0.0                   6.0              1.0   \n",
       "25%                    0.0                  31.0             50.0   \n",
       "50%                    0.0                  40.0             50.0   \n",
       "75%                    0.0                  43.0             50.0   \n",
       "max                    1.0                 140.0             50.0   \n",
       "\n",
       "       has_urgency_banner  merchant_rating_count  merchant_rating  \\\n",
       "count               468.0                 1539.0           1539.0   \n",
       "mean                  1.0                26772.0              4.0   \n",
       "std                   0.0                79191.0              0.0   \n",
       "min                   1.0                    0.0              2.0   \n",
       "25%                   1.0                 2052.0              4.0   \n",
       "50%                   1.0                 8197.0              4.0   \n",
       "75%                   1.0                24564.0              4.0   \n",
       "max                   1.0              2174765.0              5.0   \n",
       "\n",
       "       merchant_has_profile_picture  \n",
       "count                        1539.0  \n",
       "mean                            0.0  \n",
       "std                             0.0  \n",
       "min                             0.0  \n",
       "25%                             0.0  \n",
       "50%                             0.0  \n",
       "75%                             0.0  \n",
       "max                             1.0  \n",
       "\n",
       "[8 rows x 24 columns]"
      ],
      "text/html": "<div>\n<style scoped>\n    .dataframe tbody tr th:only-of-type {\n        vertical-align: middle;\n    }\n\n    .dataframe tbody tr th {\n        vertical-align: top;\n    }\n\n    .dataframe thead th {\n        text-align: right;\n    }\n</style>\n<table border=\"1\" class=\"dataframe\">\n  <thead>\n    <tr style=\"text-align: right;\">\n      <th></th>\n      <th>price</th>\n      <th>retail_price</th>\n      <th>units_sold</th>\n      <th>uses_ad_boosts</th>\n      <th>rating</th>\n      <th>rating_count</th>\n      <th>rating_five_count</th>\n      <th>rating_four_count</th>\n      <th>rating_three_count</th>\n      <th>rating_two_count</th>\n      <th>...</th>\n      <th>badge_fast_shipping</th>\n      <th>product_variation_inventory</th>\n      <th>shipping_option_price</th>\n      <th>shipping_is_express</th>\n      <th>countries_shipped_to</th>\n      <th>inventory_total</th>\n      <th>has_urgency_banner</th>\n      <th>merchant_rating_count</th>\n      <th>merchant_rating</th>\n      <th>merchant_has_profile_picture</th>\n    </tr>\n  </thead>\n  <tbody>\n    <tr>\n      <th>count</th>\n      <td>1539.0</td>\n      <td>1539.0</td>\n      <td>1539.0</td>\n      <td>1539.0</td>\n      <td>1539.0</td>\n      <td>1539.0</td>\n      <td>1496.0</td>\n      <td>1496.0</td>\n      <td>1496.0</td>\n      <td>1496.0</td>\n      <td>...</td>\n      <td>1539.0</td>\n      <td>1539.0</td>\n      <td>1539.0</td>\n      <td>1539.0</td>\n      <td>1539.0</td>\n      <td>1539.0</td>\n      <td>468.0</td>\n      <td>1539.0</td>\n      <td>1539.0</td>\n      <td>1539.0</td>\n    </tr>\n    <tr>\n      <th>mean</th>\n      <td>8.0</td>\n      <td>23.0</td>\n      <td>4422.0</td>\n      <td>0.0</td>\n      <td>4.0</td>\n      <td>907.0</td>\n      <td>451.0</td>\n      <td>183.0</td>\n      <td>137.0</td>\n      <td>65.0</td>\n      <td>...</td>\n      <td>0.0</td>\n      <td>33.0</td>\n      <td>2.0</td>\n      <td>0.0</td>\n      <td>40.0</td>\n      <td>50.0</td>\n      <td>1.0</td>\n      <td>26772.0</td>\n      <td>4.0</td>\n      <td>0.0</td>\n    </tr>\n    <tr>\n      <th>std</th>\n      <td>4.0</td>\n      <td>30.0</td>\n      <td>9438.0</td>\n      <td>0.0</td>\n      <td>1.0</td>\n      <td>2002.0</td>\n      <td>989.0</td>\n      <td>404.0</td>\n      <td>314.0</td>\n      <td>153.0</td>\n      <td>...</td>\n      <td>0.0</td>\n      <td>21.0</td>\n      <td>1.0</td>\n      <td>0.0</td>\n      <td>20.0</td>\n      <td>3.0</td>\n      <td>0.0</td>\n      <td>79191.0</td>\n      <td>0.0</td>\n      <td>0.0</td>\n    </tr>\n    <tr>\n      <th>min</th>\n      <td>1.0</td>\n      <td>1.0</td>\n      <td>1.0</td>\n      <td>0.0</td>\n      <td>1.0</td>\n      <td>0.0</td>\n      <td>0.0</td>\n      <td>0.0</td>\n      <td>0.0</td>\n      <td>0.0</td>\n      <td>...</td>\n      <td>0.0</td>\n      <td>1.0</td>\n      <td>1.0</td>\n      <td>0.0</td>\n      <td>6.0</td>\n      <td>1.0</td>\n      <td>1.0</td>\n      <td>0.0</td>\n      <td>2.0</td>\n      <td>0.0</td>\n    </tr>\n    <tr>\n      <th>25%</th>\n      <td>6.0</td>\n      <td>7.0</td>\n      <td>100.0</td>\n      <td>0.0</td>\n      <td>4.0</td>\n      <td>26.0</td>\n      <td>13.0</td>\n      <td>5.0</td>\n      <td>4.0</td>\n      <td>2.0</td>\n      <td>...</td>\n      <td>0.0</td>\n      <td>7.0</td>\n      <td>2.0</td>\n      <td>0.0</td>\n      <td>31.0</td>\n      <td>50.0</td>\n      <td>1.0</td>\n      <td>2052.0</td>\n      <td>4.0</td>\n      <td>0.0</td>\n    </tr>\n    <tr>\n      <th>50%</th>\n      <td>8.0</td>\n      <td>10.0</td>\n      <td>1000.0</td>\n      <td>0.0</td>\n      <td>4.0</td>\n      <td>161.0</td>\n      <td>84.0</td>\n      <td>33.0</td>\n      <td>26.0</td>\n      <td>12.0</td>\n      <td>...</td>\n      <td>0.0</td>\n      <td>50.0</td>\n      <td>2.0</td>\n      <td>0.0</td>\n      <td>40.0</td>\n      <td>50.0</td>\n      <td>1.0</td>\n      <td>8197.0</td>\n      <td>4.0</td>\n      <td>0.0</td>\n    </tr>\n    <tr>\n      <th>75%</th>\n      <td>11.0</td>\n      <td>26.0</td>\n      <td>5000.0</td>\n      <td>1.0</td>\n      <td>4.0</td>\n      <td>873.0</td>\n      <td>431.0</td>\n      <td>171.0</td>\n      <td>134.0</td>\n      <td>64.0</td>\n      <td>...</td>\n      <td>0.0</td>\n      <td>50.0</td>\n      <td>3.0</td>\n      <td>0.0</td>\n      <td>43.0</td>\n      <td>50.0</td>\n      <td>1.0</td>\n      <td>24564.0</td>\n      <td>4.0</td>\n      <td>0.0</td>\n    </tr>\n    <tr>\n      <th>max</th>\n      <td>49.0</td>\n      <td>252.0</td>\n      <td>100000.0</td>\n      <td>1.0</td>\n      <td>5.0</td>\n      <td>20744.0</td>\n      <td>11548.0</td>\n      <td>4152.0</td>\n      <td>3658.0</td>\n      <td>2003.0</td>\n      <td>...</td>\n      <td>1.0</td>\n      <td>50.0</td>\n      <td>12.0</td>\n      <td>1.0</td>\n      <td>140.0</td>\n      <td>50.0</td>\n      <td>1.0</td>\n      <td>2174765.0</td>\n      <td>5.0</td>\n      <td>1.0</td>\n    </tr>\n  </tbody>\n</table>\n<p>8 rows × 24 columns</p>\n</div>"
     },
     "metadata": {},
     "execution_count": 12
    }
   ],
   "source": [
    "# Describing the data\n",
    "round(df1.describe())"
   ]
  },
  {
   "cell_type": "markdown",
   "metadata": {},
   "source": [
    "# 7. Prepare Histograms and Countplots"
   ]
  },
  {
   "cell_type": "code",
   "execution_count": null,
   "metadata": {},
   "outputs": [],
   "source": [
    " # Creating function to get all possible bar graphs.. \n",
    " \n",
    " def hist_count(column, data, exclude_col):\n",
    "\n",
    "     if column not in exclude_col:\n",
    "\n",
    "             f, axes = plt.subplots(1,1,figsize=(15,5))\n",
    "\n",
    "             sns.countplot(x=column, data=data)\n",
    "\n",
    "             plt.xticks(rotation = 90)\n",
    "\n",
    "             plt.suptitle(column, fontsize=20)\n",
    "\n",
    "             plt.show()\n",
    "\n",
    "     else:\n",
    "\n",
    "             his = sns.FacetGrid(data, margin_titles=True, aspect = 4, height=3)\n",
    "\n",
    "             his.map(plt.hist,column,bins=100)\n",
    "\n",
    "             plt.show()\n",
    "\n",
    "     plt.show()\n",
    "\n",
    " exclude_col = ['title', 'title_orig', 'currency_buyer', 'tags', 'merchant_title', 'merchant_name','merchant_info_subtitle', 'merchant_id', 'merchant_profile_picture', 'product_url','product_picture', 'product_id', 'theme', 'crawl_month' ]\n",
    "\n",
    " for column in df1.columns:\n",
    "\n",
    "     hist_count(column,df1,exclude_col)"
   ]
  },
  {
   "cell_type": "markdown",
   "metadata": {},
   "source": [
    "# 8. Boxplot of ratings"
   ]
  },
  {
   "cell_type": "code",
   "execution_count": 13,
   "metadata": {},
   "outputs": [
    {
     "output_type": "execute_result",
     "data": {
      "text/plain": [
       "<AxesSubplot:xlabel='rating'>"
      ]
     },
     "metadata": {},
     "execution_count": 13
    },
    {
     "output_type": "display_data",
     "data": {
      "text/plain": "<Figure size 432x288 with 1 Axes>",
      "image/svg+xml": "<?xml version=\"1.0\" encoding=\"utf-8\" standalone=\"no\"?>\r\n<!DOCTYPE svg PUBLIC \"-//W3C//DTD SVG 1.1//EN\"\r\n  \"http://www.w3.org/Graphics/SVG/1.1/DTD/svg11.dtd\">\r\n<!-- Created with matplotlib (https://matplotlib.org/) -->\r\n<svg height=\"262.19625pt\" version=\"1.1\" viewBox=\"0 0 352.7 262.19625\" width=\"352.7pt\" xmlns=\"http://www.w3.org/2000/svg\" xmlns:xlink=\"http://www.w3.org/1999/xlink\">\r\n <metadata>\r\n  <rdf:RDF xmlns:cc=\"http://creativecommons.org/ns#\" xmlns:dc=\"http://purl.org/dc/elements/1.1/\" xmlns:rdf=\"http://www.w3.org/1999/02/22-rdf-syntax-ns#\">\r\n   <cc:Work>\r\n    <dc:type rdf:resource=\"http://purl.org/dc/dcmitype/StillImage\"/>\r\n    <dc:date>2020-12-01T14:01:09.510133</dc:date>\r\n    <dc:format>image/svg+xml</dc:format>\r\n    <dc:creator>\r\n     <cc:Agent>\r\n      <dc:title>Matplotlib v3.3.2, https://matplotlib.org/</dc:title>\r\n     </cc:Agent>\r\n    </dc:creator>\r\n   </cc:Work>\r\n  </rdf:RDF>\r\n </metadata>\r\n <defs>\r\n  <style type=\"text/css\">*{stroke-linecap:butt;stroke-linejoin:round;}</style>\r\n </defs>\r\n <g id=\"figure_1\">\r\n  <g id=\"patch_1\">\r\n   <path d=\"M 0 262.19625 \r\nL 352.7 262.19625 \r\nL 352.7 0 \r\nL 0 0 \r\nz\r\n\" style=\"fill:none;\"/>\r\n  </g>\r\n  <g id=\"axes_1\">\r\n   <g id=\"patch_2\">\r\n    <path d=\"M 10.7 224.64 \r\nL 345.5 224.64 \r\nL 345.5 7.2 \r\nL 10.7 7.2 \r\nz\r\n\" style=\"fill:#ffffff;\"/>\r\n   </g>\r\n   <g id=\"patch_3\">\r\n    <path clip-path=\"url(#p1503a31e66)\" d=\"M 219.95 28.944 \r\nL 219.95 202.896 \r\nL 262.560909 202.896 \r\nL 262.560909 28.944 \r\nL 219.95 28.944 \r\nz\r\n\" style=\"fill:#3274a1;stroke:#3f3f3f;stroke-linejoin:miter;stroke-width:1.5;\"/>\r\n   </g>\r\n   <g id=\"matplotlib.axis_1\">\r\n    <g id=\"xtick_1\">\r\n     <g id=\"line2d_1\">\r\n      <defs>\r\n       <path d=\"M 0 0 \r\nL 0 3.5 \r\n\" id=\"m24414c4afe\" style=\"stroke:#000000;stroke-width:0.8;\"/>\r\n      </defs>\r\n      <g>\r\n       <use style=\"stroke:#000000;stroke-width:0.8;\" x=\"25.918182\" xlink:href=\"#m24414c4afe\" y=\"224.64\"/>\r\n      </g>\r\n     </g>\r\n     <g id=\"text_1\">\r\n      <!-- 1.0 -->\r\n      <g transform=\"translate(17.966619 239.238437)scale(0.1 -0.1)\">\r\n       <defs>\r\n        <path d=\"M 12.40625 8.296875 \r\nL 28.515625 8.296875 \r\nL 28.515625 63.921875 \r\nL 10.984375 60.40625 \r\nL 10.984375 69.390625 \r\nL 28.421875 72.90625 \r\nL 38.28125 72.90625 \r\nL 38.28125 8.296875 \r\nL 54.390625 8.296875 \r\nL 54.390625 0 \r\nL 12.40625 0 \r\nz\r\n\" id=\"DejaVuSans-49\"/>\r\n        <path d=\"M 10.6875 12.40625 \r\nL 21 12.40625 \r\nL 21 0 \r\nL 10.6875 0 \r\nz\r\n\" id=\"DejaVuSans-46\"/>\r\n        <path d=\"M 31.78125 66.40625 \r\nQ 24.171875 66.40625 20.328125 58.90625 \r\nQ 16.5 51.421875 16.5 36.375 \r\nQ 16.5 21.390625 20.328125 13.890625 \r\nQ 24.171875 6.390625 31.78125 6.390625 \r\nQ 39.453125 6.390625 43.28125 13.890625 \r\nQ 47.125 21.390625 47.125 36.375 \r\nQ 47.125 51.421875 43.28125 58.90625 \r\nQ 39.453125 66.40625 31.78125 66.40625 \r\nz\r\nM 31.78125 74.21875 \r\nQ 44.046875 74.21875 50.515625 64.515625 \r\nQ 56.984375 54.828125 56.984375 36.375 \r\nQ 56.984375 17.96875 50.515625 8.265625 \r\nQ 44.046875 -1.421875 31.78125 -1.421875 \r\nQ 19.53125 -1.421875 13.0625 8.265625 \r\nQ 6.59375 17.96875 6.59375 36.375 \r\nQ 6.59375 54.828125 13.0625 64.515625 \r\nQ 19.53125 74.21875 31.78125 74.21875 \r\nz\r\n\" id=\"DejaVuSans-48\"/>\r\n       </defs>\r\n       <use xlink:href=\"#DejaVuSans-49\"/>\r\n       <use x=\"63.623047\" xlink:href=\"#DejaVuSans-46\"/>\r\n       <use x=\"95.410156\" xlink:href=\"#DejaVuSans-48\"/>\r\n      </g>\r\n     </g>\r\n    </g>\r\n    <g id=\"xtick_2\">\r\n     <g id=\"line2d_2\">\r\n      <g>\r\n       <use style=\"stroke:#000000;stroke-width:0.8;\" x=\"63.963636\" xlink:href=\"#m24414c4afe\" y=\"224.64\"/>\r\n      </g>\r\n     </g>\r\n     <g id=\"text_2\">\r\n      <!-- 1.5 -->\r\n      <g transform=\"translate(56.012074 239.238437)scale(0.1 -0.1)\">\r\n       <defs>\r\n        <path d=\"M 10.796875 72.90625 \r\nL 49.515625 72.90625 \r\nL 49.515625 64.59375 \r\nL 19.828125 64.59375 \r\nL 19.828125 46.734375 \r\nQ 21.96875 47.46875 24.109375 47.828125 \r\nQ 26.265625 48.1875 28.421875 48.1875 \r\nQ 40.625 48.1875 47.75 41.5 \r\nQ 54.890625 34.8125 54.890625 23.390625 \r\nQ 54.890625 11.625 47.5625 5.09375 \r\nQ 40.234375 -1.421875 26.90625 -1.421875 \r\nQ 22.3125 -1.421875 17.546875 -0.640625 \r\nQ 12.796875 0.140625 7.71875 1.703125 \r\nL 7.71875 11.625 \r\nQ 12.109375 9.234375 16.796875 8.0625 \r\nQ 21.484375 6.890625 26.703125 6.890625 \r\nQ 35.15625 6.890625 40.078125 11.328125 \r\nQ 45.015625 15.765625 45.015625 23.390625 \r\nQ 45.015625 31 40.078125 35.4375 \r\nQ 35.15625 39.890625 26.703125 39.890625 \r\nQ 22.75 39.890625 18.8125 39.015625 \r\nQ 14.890625 38.140625 10.796875 36.28125 \r\nz\r\n\" id=\"DejaVuSans-53\"/>\r\n       </defs>\r\n       <use xlink:href=\"#DejaVuSans-49\"/>\r\n       <use x=\"63.623047\" xlink:href=\"#DejaVuSans-46\"/>\r\n       <use x=\"95.410156\" xlink:href=\"#DejaVuSans-53\"/>\r\n      </g>\r\n     </g>\r\n    </g>\r\n    <g id=\"xtick_3\">\r\n     <g id=\"line2d_3\">\r\n      <g>\r\n       <use style=\"stroke:#000000;stroke-width:0.8;\" x=\"102.009091\" xlink:href=\"#m24414c4afe\" y=\"224.64\"/>\r\n      </g>\r\n     </g>\r\n     <g id=\"text_3\">\r\n      <!-- 2.0 -->\r\n      <g transform=\"translate(94.057528 239.238437)scale(0.1 -0.1)\">\r\n       <defs>\r\n        <path d=\"M 19.1875 8.296875 \r\nL 53.609375 8.296875 \r\nL 53.609375 0 \r\nL 7.328125 0 \r\nL 7.328125 8.296875 \r\nQ 12.9375 14.109375 22.625 23.890625 \r\nQ 32.328125 33.6875 34.8125 36.53125 \r\nQ 39.546875 41.84375 41.421875 45.53125 \r\nQ 43.3125 49.21875 43.3125 52.78125 \r\nQ 43.3125 58.59375 39.234375 62.25 \r\nQ 35.15625 65.921875 28.609375 65.921875 \r\nQ 23.96875 65.921875 18.8125 64.3125 \r\nQ 13.671875 62.703125 7.8125 59.421875 \r\nL 7.8125 69.390625 \r\nQ 13.765625 71.78125 18.9375 73 \r\nQ 24.125 74.21875 28.421875 74.21875 \r\nQ 39.75 74.21875 46.484375 68.546875 \r\nQ 53.21875 62.890625 53.21875 53.421875 \r\nQ 53.21875 48.921875 51.53125 44.890625 \r\nQ 49.859375 40.875 45.40625 35.40625 \r\nQ 44.1875 33.984375 37.640625 27.21875 \r\nQ 31.109375 20.453125 19.1875 8.296875 \r\nz\r\n\" id=\"DejaVuSans-50\"/>\r\n       </defs>\r\n       <use xlink:href=\"#DejaVuSans-50\"/>\r\n       <use x=\"63.623047\" xlink:href=\"#DejaVuSans-46\"/>\r\n       <use x=\"95.410156\" xlink:href=\"#DejaVuSans-48\"/>\r\n      </g>\r\n     </g>\r\n    </g>\r\n    <g id=\"xtick_4\">\r\n     <g id=\"line2d_4\">\r\n      <g>\r\n       <use style=\"stroke:#000000;stroke-width:0.8;\" x=\"140.054545\" xlink:href=\"#m24414c4afe\" y=\"224.64\"/>\r\n      </g>\r\n     </g>\r\n     <g id=\"text_4\">\r\n      <!-- 2.5 -->\r\n      <g transform=\"translate(132.102983 239.238437)scale(0.1 -0.1)\">\r\n       <use xlink:href=\"#DejaVuSans-50\"/>\r\n       <use x=\"63.623047\" xlink:href=\"#DejaVuSans-46\"/>\r\n       <use x=\"95.410156\" xlink:href=\"#DejaVuSans-53\"/>\r\n      </g>\r\n     </g>\r\n    </g>\r\n    <g id=\"xtick_5\">\r\n     <g id=\"line2d_5\">\r\n      <g>\r\n       <use style=\"stroke:#000000;stroke-width:0.8;\" x=\"178.1\" xlink:href=\"#m24414c4afe\" y=\"224.64\"/>\r\n      </g>\r\n     </g>\r\n     <g id=\"text_5\">\r\n      <!-- 3.0 -->\r\n      <g transform=\"translate(170.148438 239.238437)scale(0.1 -0.1)\">\r\n       <defs>\r\n        <path d=\"M 40.578125 39.3125 \r\nQ 47.65625 37.796875 51.625 33 \r\nQ 55.609375 28.21875 55.609375 21.1875 \r\nQ 55.609375 10.40625 48.1875 4.484375 \r\nQ 40.765625 -1.421875 27.09375 -1.421875 \r\nQ 22.515625 -1.421875 17.65625 -0.515625 \r\nQ 12.796875 0.390625 7.625 2.203125 \r\nL 7.625 11.71875 \r\nQ 11.71875 9.328125 16.59375 8.109375 \r\nQ 21.484375 6.890625 26.8125 6.890625 \r\nQ 36.078125 6.890625 40.9375 10.546875 \r\nQ 45.796875 14.203125 45.796875 21.1875 \r\nQ 45.796875 27.640625 41.28125 31.265625 \r\nQ 36.765625 34.90625 28.71875 34.90625 \r\nL 20.21875 34.90625 \r\nL 20.21875 43.015625 \r\nL 29.109375 43.015625 \r\nQ 36.375 43.015625 40.234375 45.921875 \r\nQ 44.09375 48.828125 44.09375 54.296875 \r\nQ 44.09375 59.90625 40.109375 62.90625 \r\nQ 36.140625 65.921875 28.71875 65.921875 \r\nQ 24.65625 65.921875 20.015625 65.03125 \r\nQ 15.375 64.15625 9.8125 62.3125 \r\nL 9.8125 71.09375 \r\nQ 15.4375 72.65625 20.34375 73.4375 \r\nQ 25.25 74.21875 29.59375 74.21875 \r\nQ 40.828125 74.21875 47.359375 69.109375 \r\nQ 53.90625 64.015625 53.90625 55.328125 \r\nQ 53.90625 49.265625 50.4375 45.09375 \r\nQ 46.96875 40.921875 40.578125 39.3125 \r\nz\r\n\" id=\"DejaVuSans-51\"/>\r\n       </defs>\r\n       <use xlink:href=\"#DejaVuSans-51\"/>\r\n       <use x=\"63.623047\" xlink:href=\"#DejaVuSans-46\"/>\r\n       <use x=\"95.410156\" xlink:href=\"#DejaVuSans-48\"/>\r\n      </g>\r\n     </g>\r\n    </g>\r\n    <g id=\"xtick_6\">\r\n     <g id=\"line2d_6\">\r\n      <g>\r\n       <use style=\"stroke:#000000;stroke-width:0.8;\" x=\"216.145455\" xlink:href=\"#m24414c4afe\" y=\"224.64\"/>\r\n      </g>\r\n     </g>\r\n     <g id=\"text_6\">\r\n      <!-- 3.5 -->\r\n      <g transform=\"translate(208.193892 239.238437)scale(0.1 -0.1)\">\r\n       <use xlink:href=\"#DejaVuSans-51\"/>\r\n       <use x=\"63.623047\" xlink:href=\"#DejaVuSans-46\"/>\r\n       <use x=\"95.410156\" xlink:href=\"#DejaVuSans-53\"/>\r\n      </g>\r\n     </g>\r\n    </g>\r\n    <g id=\"xtick_7\">\r\n     <g id=\"line2d_7\">\r\n      <g>\r\n       <use style=\"stroke:#000000;stroke-width:0.8;\" x=\"254.190909\" xlink:href=\"#m24414c4afe\" y=\"224.64\"/>\r\n      </g>\r\n     </g>\r\n     <g id=\"text_7\">\r\n      <!-- 4.0 -->\r\n      <g transform=\"translate(246.239347 239.238437)scale(0.1 -0.1)\">\r\n       <defs>\r\n        <path d=\"M 37.796875 64.3125 \r\nL 12.890625 25.390625 \r\nL 37.796875 25.390625 \r\nz\r\nM 35.203125 72.90625 \r\nL 47.609375 72.90625 \r\nL 47.609375 25.390625 \r\nL 58.015625 25.390625 \r\nL 58.015625 17.1875 \r\nL 47.609375 17.1875 \r\nL 47.609375 0 \r\nL 37.796875 0 \r\nL 37.796875 17.1875 \r\nL 4.890625 17.1875 \r\nL 4.890625 26.703125 \r\nz\r\n\" id=\"DejaVuSans-52\"/>\r\n       </defs>\r\n       <use xlink:href=\"#DejaVuSans-52\"/>\r\n       <use x=\"63.623047\" xlink:href=\"#DejaVuSans-46\"/>\r\n       <use x=\"95.410156\" xlink:href=\"#DejaVuSans-48\"/>\r\n      </g>\r\n     </g>\r\n    </g>\r\n    <g id=\"xtick_8\">\r\n     <g id=\"line2d_8\">\r\n      <g>\r\n       <use style=\"stroke:#000000;stroke-width:0.8;\" x=\"292.236364\" xlink:href=\"#m24414c4afe\" y=\"224.64\"/>\r\n      </g>\r\n     </g>\r\n     <g id=\"text_8\">\r\n      <!-- 4.5 -->\r\n      <g transform=\"translate(284.284801 239.238437)scale(0.1 -0.1)\">\r\n       <use xlink:href=\"#DejaVuSans-52\"/>\r\n       <use x=\"63.623047\" xlink:href=\"#DejaVuSans-46\"/>\r\n       <use x=\"95.410156\" xlink:href=\"#DejaVuSans-53\"/>\r\n      </g>\r\n     </g>\r\n    </g>\r\n    <g id=\"xtick_9\">\r\n     <g id=\"line2d_9\">\r\n      <g>\r\n       <use style=\"stroke:#000000;stroke-width:0.8;\" x=\"330.281818\" xlink:href=\"#m24414c4afe\" y=\"224.64\"/>\r\n      </g>\r\n     </g>\r\n     <g id=\"text_9\">\r\n      <!-- 5.0 -->\r\n      <g transform=\"translate(322.330256 239.238437)scale(0.1 -0.1)\">\r\n       <use xlink:href=\"#DejaVuSans-53\"/>\r\n       <use x=\"63.623047\" xlink:href=\"#DejaVuSans-46\"/>\r\n       <use x=\"95.410156\" xlink:href=\"#DejaVuSans-48\"/>\r\n      </g>\r\n     </g>\r\n    </g>\r\n    <g id=\"text_10\">\r\n     <!-- rating -->\r\n     <g transform=\"translate(163.288281 252.916562)scale(0.1 -0.1)\">\r\n      <defs>\r\n       <path d=\"M 41.109375 46.296875 \r\nQ 39.59375 47.171875 37.8125 47.578125 \r\nQ 36.03125 48 33.890625 48 \r\nQ 26.265625 48 22.1875 43.046875 \r\nQ 18.109375 38.09375 18.109375 28.8125 \r\nL 18.109375 0 \r\nL 9.078125 0 \r\nL 9.078125 54.6875 \r\nL 18.109375 54.6875 \r\nL 18.109375 46.1875 \r\nQ 20.953125 51.171875 25.484375 53.578125 \r\nQ 30.03125 56 36.53125 56 \r\nQ 37.453125 56 38.578125 55.875 \r\nQ 39.703125 55.765625 41.0625 55.515625 \r\nz\r\n\" id=\"DejaVuSans-114\"/>\r\n       <path d=\"M 34.28125 27.484375 \r\nQ 23.390625 27.484375 19.1875 25 \r\nQ 14.984375 22.515625 14.984375 16.5 \r\nQ 14.984375 11.71875 18.140625 8.90625 \r\nQ 21.296875 6.109375 26.703125 6.109375 \r\nQ 34.1875 6.109375 38.703125 11.40625 \r\nQ 43.21875 16.703125 43.21875 25.484375 \r\nL 43.21875 27.484375 \r\nz\r\nM 52.203125 31.203125 \r\nL 52.203125 0 \r\nL 43.21875 0 \r\nL 43.21875 8.296875 \r\nQ 40.140625 3.328125 35.546875 0.953125 \r\nQ 30.953125 -1.421875 24.3125 -1.421875 \r\nQ 15.921875 -1.421875 10.953125 3.296875 \r\nQ 6 8.015625 6 15.921875 \r\nQ 6 25.140625 12.171875 29.828125 \r\nQ 18.359375 34.515625 30.609375 34.515625 \r\nL 43.21875 34.515625 \r\nL 43.21875 35.40625 \r\nQ 43.21875 41.609375 39.140625 45 \r\nQ 35.0625 48.390625 27.6875 48.390625 \r\nQ 23 48.390625 18.546875 47.265625 \r\nQ 14.109375 46.140625 10.015625 43.890625 \r\nL 10.015625 52.203125 \r\nQ 14.9375 54.109375 19.578125 55.046875 \r\nQ 24.21875 56 28.609375 56 \r\nQ 40.484375 56 46.34375 49.84375 \r\nQ 52.203125 43.703125 52.203125 31.203125 \r\nz\r\n\" id=\"DejaVuSans-97\"/>\r\n       <path d=\"M 18.3125 70.21875 \r\nL 18.3125 54.6875 \r\nL 36.8125 54.6875 \r\nL 36.8125 47.703125 \r\nL 18.3125 47.703125 \r\nL 18.3125 18.015625 \r\nQ 18.3125 11.328125 20.140625 9.421875 \r\nQ 21.96875 7.515625 27.59375 7.515625 \r\nL 36.8125 7.515625 \r\nL 36.8125 0 \r\nL 27.59375 0 \r\nQ 17.1875 0 13.234375 3.875 \r\nQ 9.28125 7.765625 9.28125 18.015625 \r\nL 9.28125 47.703125 \r\nL 2.6875 47.703125 \r\nL 2.6875 54.6875 \r\nL 9.28125 54.6875 \r\nL 9.28125 70.21875 \r\nz\r\n\" id=\"DejaVuSans-116\"/>\r\n       <path d=\"M 9.421875 54.6875 \r\nL 18.40625 54.6875 \r\nL 18.40625 0 \r\nL 9.421875 0 \r\nz\r\nM 9.421875 75.984375 \r\nL 18.40625 75.984375 \r\nL 18.40625 64.59375 \r\nL 9.421875 64.59375 \r\nz\r\n\" id=\"DejaVuSans-105\"/>\r\n       <path d=\"M 54.890625 33.015625 \r\nL 54.890625 0 \r\nL 45.90625 0 \r\nL 45.90625 32.71875 \r\nQ 45.90625 40.484375 42.875 44.328125 \r\nQ 39.84375 48.1875 33.796875 48.1875 \r\nQ 26.515625 48.1875 22.3125 43.546875 \r\nQ 18.109375 38.921875 18.109375 30.90625 \r\nL 18.109375 0 \r\nL 9.078125 0 \r\nL 9.078125 54.6875 \r\nL 18.109375 54.6875 \r\nL 18.109375 46.1875 \r\nQ 21.34375 51.125 25.703125 53.5625 \r\nQ 30.078125 56 35.796875 56 \r\nQ 45.21875 56 50.046875 50.171875 \r\nQ 54.890625 44.34375 54.890625 33.015625 \r\nz\r\n\" id=\"DejaVuSans-110\"/>\r\n       <path d=\"M 45.40625 27.984375 \r\nQ 45.40625 37.75 41.375 43.109375 \r\nQ 37.359375 48.484375 30.078125 48.484375 \r\nQ 22.859375 48.484375 18.828125 43.109375 \r\nQ 14.796875 37.75 14.796875 27.984375 \r\nQ 14.796875 18.265625 18.828125 12.890625 \r\nQ 22.859375 7.515625 30.078125 7.515625 \r\nQ 37.359375 7.515625 41.375 12.890625 \r\nQ 45.40625 18.265625 45.40625 27.984375 \r\nz\r\nM 54.390625 6.78125 \r\nQ 54.390625 -7.171875 48.1875 -13.984375 \r\nQ 42 -20.796875 29.203125 -20.796875 \r\nQ 24.46875 -20.796875 20.265625 -20.09375 \r\nQ 16.0625 -19.390625 12.109375 -17.921875 \r\nL 12.109375 -9.1875 \r\nQ 16.0625 -11.328125 19.921875 -12.34375 \r\nQ 23.78125 -13.375 27.78125 -13.375 \r\nQ 36.625 -13.375 41.015625 -8.765625 \r\nQ 45.40625 -4.15625 45.40625 5.171875 \r\nL 45.40625 9.625 \r\nQ 42.625 4.78125 38.28125 2.390625 \r\nQ 33.9375 0 27.875 0 \r\nQ 17.828125 0 11.671875 7.65625 \r\nQ 5.515625 15.328125 5.515625 27.984375 \r\nQ 5.515625 40.671875 11.671875 48.328125 \r\nQ 17.828125 56 27.875 56 \r\nQ 33.9375 56 38.28125 53.609375 \r\nQ 42.625 51.21875 45.40625 46.390625 \r\nL 45.40625 54.6875 \r\nL 54.390625 54.6875 \r\nz\r\n\" id=\"DejaVuSans-103\"/>\r\n      </defs>\r\n      <use xlink:href=\"#DejaVuSans-114\"/>\r\n      <use x=\"41.113281\" xlink:href=\"#DejaVuSans-97\"/>\r\n      <use x=\"102.392578\" xlink:href=\"#DejaVuSans-116\"/>\r\n      <use x=\"141.601562\" xlink:href=\"#DejaVuSans-105\"/>\r\n      <use x=\"169.384766\" xlink:href=\"#DejaVuSans-110\"/>\r\n      <use x=\"232.763672\" xlink:href=\"#DejaVuSans-103\"/>\r\n     </g>\r\n    </g>\r\n   </g>\r\n   <g id=\"matplotlib.axis_2\">\r\n    <g id=\"ytick_1\">\r\n     <g id=\"line2d_10\">\r\n      <defs>\r\n       <path d=\"M 0 0 \r\nL -3.5 0 \r\n\" id=\"m8abc1073ea\" style=\"stroke:#000000;stroke-width:0.8;\"/>\r\n      </defs>\r\n      <g>\r\n       <use style=\"stroke:#000000;stroke-width:0.8;\" x=\"10.7\" xlink:href=\"#m8abc1073ea\" y=\"115.92\"/>\r\n      </g>\r\n     </g>\r\n    </g>\r\n   </g>\r\n   <g id=\"line2d_11\">\r\n    <path clip-path=\"url(#p1503a31e66)\" d=\"M 219.95 115.92 \r\nL 156.033636 115.92 \r\n\" style=\"fill:none;stroke:#3f3f3f;stroke-linecap:square;stroke-width:1.5;\"/>\r\n   </g>\r\n   <g id=\"line2d_12\">\r\n    <path clip-path=\"url(#p1503a31e66)\" d=\"M 262.560909 115.92 \r\nL 319.629091 115.92 \r\n\" style=\"fill:none;stroke:#3f3f3f;stroke-linecap:square;stroke-width:1.5;\"/>\r\n   </g>\r\n   <g id=\"line2d_13\">\r\n    <path clip-path=\"url(#p1503a31e66)\" d=\"M 156.033636 72.432 \r\nL 156.033636 159.408 \r\n\" style=\"fill:none;stroke:#3f3f3f;stroke-linecap:square;stroke-width:1.5;\"/>\r\n   </g>\r\n   <g id=\"line2d_14\">\r\n    <path clip-path=\"url(#p1503a31e66)\" d=\"M 319.629091 72.432 \r\nL 319.629091 159.408 \r\n\" style=\"fill:none;stroke:#3f3f3f;stroke-linecap:square;stroke-width:1.5;\"/>\r\n   </g>\r\n   <g id=\"line2d_15\">\r\n    <defs>\r\n     <path d=\"M 0 3.535534 \r\nL 2.12132 0 \r\nL 0 -3.535534 \r\nL -2.12132 0 \r\nz\r\n\" id=\"md6f22e3ece\" style=\"stroke:#3f3f3f;stroke-linejoin:miter;\"/>\r\n    </defs>\r\n    <g clip-path=\"url(#p1503a31e66)\">\r\n     <use style=\"fill:#3f3f3f;stroke:#3f3f3f;stroke-linejoin:miter;\" x=\"63.963636\" xlink:href=\"#md6f22e3ece\" y=\"115.92\"/>\r\n     <use style=\"fill:#3f3f3f;stroke:#3f3f3f;stroke-linejoin:miter;\" x=\"148.424545\" xlink:href=\"#md6f22e3ece\" y=\"115.92\"/>\r\n     <use style=\"fill:#3f3f3f;stroke:#3f3f3f;stroke-linejoin:miter;\" x=\"140.054545\" xlink:href=\"#md6f22e3ece\" y=\"115.92\"/>\r\n     <use style=\"fill:#3f3f3f;stroke:#3f3f3f;stroke-linejoin:miter;\" x=\"152.99\" xlink:href=\"#md6f22e3ece\" y=\"115.92\"/>\r\n     <use style=\"fill:#3f3f3f;stroke:#3f3f3f;stroke-linejoin:miter;\" x=\"102.009091\" xlink:href=\"#md6f22e3ece\" y=\"115.92\"/>\r\n     <use style=\"fill:#3f3f3f;stroke:#3f3f3f;stroke-linejoin:miter;\" x=\"102.009091\" xlink:href=\"#md6f22e3ece\" y=\"115.92\"/>\r\n     <use style=\"fill:#3f3f3f;stroke:#3f3f3f;stroke-linejoin:miter;\" x=\"102.009091\" xlink:href=\"#md6f22e3ece\" y=\"115.92\"/>\r\n     <use style=\"fill:#3f3f3f;stroke:#3f3f3f;stroke-linejoin:miter;\" x=\"102.009091\" xlink:href=\"#md6f22e3ece\" y=\"115.92\"/>\r\n     <use style=\"fill:#3f3f3f;stroke:#3f3f3f;stroke-linejoin:miter;\" x=\"25.918182\" xlink:href=\"#md6f22e3ece\" y=\"115.92\"/>\r\n     <use style=\"fill:#3f3f3f;stroke:#3f3f3f;stroke-linejoin:miter;\" x=\"140.054545\" xlink:href=\"#md6f22e3ece\" y=\"115.92\"/>\r\n     <use style=\"fill:#3f3f3f;stroke:#3f3f3f;stroke-linejoin:miter;\" x=\"152.99\" xlink:href=\"#md6f22e3ece\" y=\"115.92\"/>\r\n     <use style=\"fill:#3f3f3f;stroke:#3f3f3f;stroke-linejoin:miter;\" x=\"148.424545\" xlink:href=\"#md6f22e3ece\" y=\"115.92\"/>\r\n     <use style=\"fill:#3f3f3f;stroke:#3f3f3f;stroke-linejoin:miter;\" x=\"102.009091\" xlink:href=\"#md6f22e3ece\" y=\"115.92\"/>\r\n     <use style=\"fill:#3f3f3f;stroke:#3f3f3f;stroke-linejoin:miter;\" x=\"152.99\" xlink:href=\"#md6f22e3ece\" y=\"115.92\"/>\r\n     <use style=\"fill:#3f3f3f;stroke:#3f3f3f;stroke-linejoin:miter;\" x=\"121.031818\" xlink:href=\"#md6f22e3ece\" y=\"115.92\"/>\r\n     <use style=\"fill:#3f3f3f;stroke:#3f3f3f;stroke-linejoin:miter;\" x=\"102.009091\" xlink:href=\"#md6f22e3ece\" y=\"115.92\"/>\r\n     <use style=\"fill:#3f3f3f;stroke:#3f3f3f;stroke-linejoin:miter;\" x=\"102.009091\" xlink:href=\"#md6f22e3ece\" y=\"115.92\"/>\r\n     <use style=\"fill:#3f3f3f;stroke:#3f3f3f;stroke-linejoin:miter;\" x=\"145.380909\" xlink:href=\"#md6f22e3ece\" y=\"115.92\"/>\r\n     <use style=\"fill:#3f3f3f;stroke:#3f3f3f;stroke-linejoin:miter;\" x=\"152.99\" xlink:href=\"#md6f22e3ece\" y=\"115.92\"/>\r\n     <use style=\"fill:#3f3f3f;stroke:#3f3f3f;stroke-linejoin:miter;\" x=\"25.918182\" xlink:href=\"#md6f22e3ece\" y=\"115.92\"/>\r\n     <use style=\"fill:#3f3f3f;stroke:#3f3f3f;stroke-linejoin:miter;\" x=\"127.119091\" xlink:href=\"#md6f22e3ece\" y=\"115.92\"/>\r\n     <use style=\"fill:#3f3f3f;stroke:#3f3f3f;stroke-linejoin:miter;\" x=\"155.272727\" xlink:href=\"#md6f22e3ece\" y=\"115.92\"/>\r\n     <use style=\"fill:#3f3f3f;stroke:#3f3f3f;stroke-linejoin:miter;\" x=\"145.380909\" xlink:href=\"#md6f22e3ece\" y=\"115.92\"/>\r\n     <use style=\"fill:#3f3f3f;stroke:#3f3f3f;stroke-linejoin:miter;\" x=\"135.489091\" xlink:href=\"#md6f22e3ece\" y=\"115.92\"/>\r\n     <use style=\"fill:#3f3f3f;stroke:#3f3f3f;stroke-linejoin:miter;\" x=\"152.99\" xlink:href=\"#md6f22e3ece\" y=\"115.92\"/>\r\n     <use style=\"fill:#3f3f3f;stroke:#3f3f3f;stroke-linejoin:miter;\" x=\"102.009091\" xlink:href=\"#md6f22e3ece\" y=\"115.92\"/>\r\n     <use style=\"fill:#3f3f3f;stroke:#3f3f3f;stroke-linejoin:miter;\" x=\"63.963636\" xlink:href=\"#md6f22e3ece\" y=\"115.92\"/>\r\n     <use style=\"fill:#3f3f3f;stroke:#3f3f3f;stroke-linejoin:miter;\" x=\"25.918182\" xlink:href=\"#md6f22e3ece\" y=\"115.92\"/>\r\n     <use style=\"fill:#3f3f3f;stroke:#3f3f3f;stroke-linejoin:miter;\" x=\"135.489091\" xlink:href=\"#md6f22e3ece\" y=\"115.92\"/>\r\n     <use style=\"fill:#3f3f3f;stroke:#3f3f3f;stroke-linejoin:miter;\" x=\"140.054545\" xlink:href=\"#md6f22e3ece\" y=\"115.92\"/>\r\n     <use style=\"fill:#3f3f3f;stroke:#3f3f3f;stroke-linejoin:miter;\" x=\"330.281818\" xlink:href=\"#md6f22e3ece\" y=\"115.92\"/>\r\n     <use style=\"fill:#3f3f3f;stroke:#3f3f3f;stroke-linejoin:miter;\" x=\"330.281818\" xlink:href=\"#md6f22e3ece\" y=\"115.92\"/>\r\n     <use style=\"fill:#3f3f3f;stroke:#3f3f3f;stroke-linejoin:miter;\" x=\"330.281818\" xlink:href=\"#md6f22e3ece\" y=\"115.92\"/>\r\n     <use style=\"fill:#3f3f3f;stroke:#3f3f3f;stroke-linejoin:miter;\" x=\"330.281818\" xlink:href=\"#md6f22e3ece\" y=\"115.92\"/>\r\n     <use style=\"fill:#3f3f3f;stroke:#3f3f3f;stroke-linejoin:miter;\" x=\"330.281818\" xlink:href=\"#md6f22e3ece\" y=\"115.92\"/>\r\n     <use style=\"fill:#3f3f3f;stroke:#3f3f3f;stroke-linejoin:miter;\" x=\"330.281818\" xlink:href=\"#md6f22e3ece\" y=\"115.92\"/>\r\n     <use style=\"fill:#3f3f3f;stroke:#3f3f3f;stroke-linejoin:miter;\" x=\"330.281818\" xlink:href=\"#md6f22e3ece\" y=\"115.92\"/>\r\n     <use style=\"fill:#3f3f3f;stroke:#3f3f3f;stroke-linejoin:miter;\" x=\"330.281818\" xlink:href=\"#md6f22e3ece\" y=\"115.92\"/>\r\n     <use style=\"fill:#3f3f3f;stroke:#3f3f3f;stroke-linejoin:miter;\" x=\"330.281818\" xlink:href=\"#md6f22e3ece\" y=\"115.92\"/>\r\n     <use style=\"fill:#3f3f3f;stroke:#3f3f3f;stroke-linejoin:miter;\" x=\"330.281818\" xlink:href=\"#md6f22e3ece\" y=\"115.92\"/>\r\n     <use style=\"fill:#3f3f3f;stroke:#3f3f3f;stroke-linejoin:miter;\" x=\"330.281818\" xlink:href=\"#md6f22e3ece\" y=\"115.92\"/>\r\n     <use style=\"fill:#3f3f3f;stroke:#3f3f3f;stroke-linejoin:miter;\" x=\"330.281818\" xlink:href=\"#md6f22e3ece\" y=\"115.92\"/>\r\n     <use style=\"fill:#3f3f3f;stroke:#3f3f3f;stroke-linejoin:miter;\" x=\"330.281818\" xlink:href=\"#md6f22e3ece\" y=\"115.92\"/>\r\n     <use style=\"fill:#3f3f3f;stroke:#3f3f3f;stroke-linejoin:miter;\" x=\"330.281818\" xlink:href=\"#md6f22e3ece\" y=\"115.92\"/>\r\n     <use style=\"fill:#3f3f3f;stroke:#3f3f3f;stroke-linejoin:miter;\" x=\"330.281818\" xlink:href=\"#md6f22e3ece\" y=\"115.92\"/>\r\n     <use style=\"fill:#3f3f3f;stroke:#3f3f3f;stroke-linejoin:miter;\" x=\"330.281818\" xlink:href=\"#md6f22e3ece\" y=\"115.92\"/>\r\n     <use style=\"fill:#3f3f3f;stroke:#3f3f3f;stroke-linejoin:miter;\" x=\"330.281818\" xlink:href=\"#md6f22e3ece\" y=\"115.92\"/>\r\n     <use style=\"fill:#3f3f3f;stroke:#3f3f3f;stroke-linejoin:miter;\" x=\"330.281818\" xlink:href=\"#md6f22e3ece\" y=\"115.92\"/>\r\n     <use style=\"fill:#3f3f3f;stroke:#3f3f3f;stroke-linejoin:miter;\" x=\"330.281818\" xlink:href=\"#md6f22e3ece\" y=\"115.92\"/>\r\n     <use style=\"fill:#3f3f3f;stroke:#3f3f3f;stroke-linejoin:miter;\" x=\"330.281818\" xlink:href=\"#md6f22e3ece\" y=\"115.92\"/>\r\n     <use style=\"fill:#3f3f3f;stroke:#3f3f3f;stroke-linejoin:miter;\" x=\"330.281818\" xlink:href=\"#md6f22e3ece\" y=\"115.92\"/>\r\n     <use style=\"fill:#3f3f3f;stroke:#3f3f3f;stroke-linejoin:miter;\" x=\"330.281818\" xlink:href=\"#md6f22e3ece\" y=\"115.92\"/>\r\n     <use style=\"fill:#3f3f3f;stroke:#3f3f3f;stroke-linejoin:miter;\" x=\"330.281818\" xlink:href=\"#md6f22e3ece\" y=\"115.92\"/>\r\n     <use style=\"fill:#3f3f3f;stroke:#3f3f3f;stroke-linejoin:miter;\" x=\"330.281818\" xlink:href=\"#md6f22e3ece\" y=\"115.92\"/>\r\n     <use style=\"fill:#3f3f3f;stroke:#3f3f3f;stroke-linejoin:miter;\" x=\"330.281818\" xlink:href=\"#md6f22e3ece\" y=\"115.92\"/>\r\n     <use style=\"fill:#3f3f3f;stroke:#3f3f3f;stroke-linejoin:miter;\" x=\"330.281818\" xlink:href=\"#md6f22e3ece\" y=\"115.92\"/>\r\n     <use style=\"fill:#3f3f3f;stroke:#3f3f3f;stroke-linejoin:miter;\" x=\"330.281818\" xlink:href=\"#md6f22e3ece\" y=\"115.92\"/>\r\n     <use style=\"fill:#3f3f3f;stroke:#3f3f3f;stroke-linejoin:miter;\" x=\"330.281818\" xlink:href=\"#md6f22e3ece\" y=\"115.92\"/>\r\n     <use style=\"fill:#3f3f3f;stroke:#3f3f3f;stroke-linejoin:miter;\" x=\"330.281818\" xlink:href=\"#md6f22e3ece\" y=\"115.92\"/>\r\n     <use style=\"fill:#3f3f3f;stroke:#3f3f3f;stroke-linejoin:miter;\" x=\"330.281818\" xlink:href=\"#md6f22e3ece\" y=\"115.92\"/>\r\n     <use style=\"fill:#3f3f3f;stroke:#3f3f3f;stroke-linejoin:miter;\" x=\"330.281818\" xlink:href=\"#md6f22e3ece\" y=\"115.92\"/>\r\n     <use style=\"fill:#3f3f3f;stroke:#3f3f3f;stroke-linejoin:miter;\" x=\"330.281818\" xlink:href=\"#md6f22e3ece\" y=\"115.92\"/>\r\n     <use style=\"fill:#3f3f3f;stroke:#3f3f3f;stroke-linejoin:miter;\" x=\"330.281818\" xlink:href=\"#md6f22e3ece\" y=\"115.92\"/>\r\n     <use style=\"fill:#3f3f3f;stroke:#3f3f3f;stroke-linejoin:miter;\" x=\"330.281818\" xlink:href=\"#md6f22e3ece\" y=\"115.92\"/>\r\n     <use style=\"fill:#3f3f3f;stroke:#3f3f3f;stroke-linejoin:miter;\" x=\"330.281818\" xlink:href=\"#md6f22e3ece\" y=\"115.92\"/>\r\n     <use style=\"fill:#3f3f3f;stroke:#3f3f3f;stroke-linejoin:miter;\" x=\"330.281818\" xlink:href=\"#md6f22e3ece\" y=\"115.92\"/>\r\n     <use style=\"fill:#3f3f3f;stroke:#3f3f3f;stroke-linejoin:miter;\" x=\"330.281818\" xlink:href=\"#md6f22e3ece\" y=\"115.92\"/>\r\n     <use style=\"fill:#3f3f3f;stroke:#3f3f3f;stroke-linejoin:miter;\" x=\"330.281818\" xlink:href=\"#md6f22e3ece\" y=\"115.92\"/>\r\n     <use style=\"fill:#3f3f3f;stroke:#3f3f3f;stroke-linejoin:miter;\" x=\"330.281818\" xlink:href=\"#md6f22e3ece\" y=\"115.92\"/>\r\n     <use style=\"fill:#3f3f3f;stroke:#3f3f3f;stroke-linejoin:miter;\" x=\"330.281818\" xlink:href=\"#md6f22e3ece\" y=\"115.92\"/>\r\n     <use style=\"fill:#3f3f3f;stroke:#3f3f3f;stroke-linejoin:miter;\" x=\"330.281818\" xlink:href=\"#md6f22e3ece\" y=\"115.92\"/>\r\n     <use style=\"fill:#3f3f3f;stroke:#3f3f3f;stroke-linejoin:miter;\" x=\"330.281818\" xlink:href=\"#md6f22e3ece\" y=\"115.92\"/>\r\n     <use style=\"fill:#3f3f3f;stroke:#3f3f3f;stroke-linejoin:miter;\" x=\"330.281818\" xlink:href=\"#md6f22e3ece\" y=\"115.92\"/>\r\n     <use style=\"fill:#3f3f3f;stroke:#3f3f3f;stroke-linejoin:miter;\" x=\"330.281818\" xlink:href=\"#md6f22e3ece\" y=\"115.92\"/>\r\n     <use style=\"fill:#3f3f3f;stroke:#3f3f3f;stroke-linejoin:miter;\" x=\"330.281818\" xlink:href=\"#md6f22e3ece\" y=\"115.92\"/>\r\n     <use style=\"fill:#3f3f3f;stroke:#3f3f3f;stroke-linejoin:miter;\" x=\"330.281818\" xlink:href=\"#md6f22e3ece\" y=\"115.92\"/>\r\n     <use style=\"fill:#3f3f3f;stroke:#3f3f3f;stroke-linejoin:miter;\" x=\"330.281818\" xlink:href=\"#md6f22e3ece\" y=\"115.92\"/>\r\n     <use style=\"fill:#3f3f3f;stroke:#3f3f3f;stroke-linejoin:miter;\" x=\"330.281818\" xlink:href=\"#md6f22e3ece\" y=\"115.92\"/>\r\n     <use style=\"fill:#3f3f3f;stroke:#3f3f3f;stroke-linejoin:miter;\" x=\"330.281818\" xlink:href=\"#md6f22e3ece\" y=\"115.92\"/>\r\n     <use style=\"fill:#3f3f3f;stroke:#3f3f3f;stroke-linejoin:miter;\" x=\"330.281818\" xlink:href=\"#md6f22e3ece\" y=\"115.92\"/>\r\n     <use style=\"fill:#3f3f3f;stroke:#3f3f3f;stroke-linejoin:miter;\" x=\"330.281818\" xlink:href=\"#md6f22e3ece\" y=\"115.92\"/>\r\n     <use style=\"fill:#3f3f3f;stroke:#3f3f3f;stroke-linejoin:miter;\" x=\"330.281818\" xlink:href=\"#md6f22e3ece\" y=\"115.92\"/>\r\n     <use style=\"fill:#3f3f3f;stroke:#3f3f3f;stroke-linejoin:miter;\" x=\"330.281818\" xlink:href=\"#md6f22e3ece\" y=\"115.92\"/>\r\n     <use style=\"fill:#3f3f3f;stroke:#3f3f3f;stroke-linejoin:miter;\" x=\"330.281818\" xlink:href=\"#md6f22e3ece\" y=\"115.92\"/>\r\n     <use style=\"fill:#3f3f3f;stroke:#3f3f3f;stroke-linejoin:miter;\" x=\"330.281818\" xlink:href=\"#md6f22e3ece\" y=\"115.92\"/>\r\n     <use style=\"fill:#3f3f3f;stroke:#3f3f3f;stroke-linejoin:miter;\" x=\"330.281818\" xlink:href=\"#md6f22e3ece\" y=\"115.92\"/>\r\n     <use style=\"fill:#3f3f3f;stroke:#3f3f3f;stroke-linejoin:miter;\" x=\"330.281818\" xlink:href=\"#md6f22e3ece\" y=\"115.92\"/>\r\n     <use style=\"fill:#3f3f3f;stroke:#3f3f3f;stroke-linejoin:miter;\" x=\"330.281818\" xlink:href=\"#md6f22e3ece\" y=\"115.92\"/>\r\n     <use style=\"fill:#3f3f3f;stroke:#3f3f3f;stroke-linejoin:miter;\" x=\"330.281818\" xlink:href=\"#md6f22e3ece\" y=\"115.92\"/>\r\n     <use style=\"fill:#3f3f3f;stroke:#3f3f3f;stroke-linejoin:miter;\" x=\"330.281818\" xlink:href=\"#md6f22e3ece\" y=\"115.92\"/>\r\n     <use style=\"fill:#3f3f3f;stroke:#3f3f3f;stroke-linejoin:miter;\" x=\"330.281818\" xlink:href=\"#md6f22e3ece\" y=\"115.92\"/>\r\n     <use style=\"fill:#3f3f3f;stroke:#3f3f3f;stroke-linejoin:miter;\" x=\"330.281818\" xlink:href=\"#md6f22e3ece\" y=\"115.92\"/>\r\n     <use style=\"fill:#3f3f3f;stroke:#3f3f3f;stroke-linejoin:miter;\" x=\"330.281818\" xlink:href=\"#md6f22e3ece\" y=\"115.92\"/>\r\n     <use style=\"fill:#3f3f3f;stroke:#3f3f3f;stroke-linejoin:miter;\" x=\"330.281818\" xlink:href=\"#md6f22e3ece\" y=\"115.92\"/>\r\n     <use style=\"fill:#3f3f3f;stroke:#3f3f3f;stroke-linejoin:miter;\" x=\"330.281818\" xlink:href=\"#md6f22e3ece\" y=\"115.92\"/>\r\n    </g>\r\n   </g>\r\n   <g id=\"line2d_16\">\r\n    <path clip-path=\"url(#p1503a31e66)\" d=\"M 242.777273 28.944 \r\nL 242.777273 202.896 \r\n\" style=\"fill:none;stroke:#3f3f3f;stroke-linecap:square;stroke-width:1.5;\"/>\r\n   </g>\r\n   <g id=\"patch_4\">\r\n    <path d=\"M 10.7 224.64 \r\nL 10.7 7.2 \r\n\" style=\"fill:none;stroke:#000000;stroke-linecap:square;stroke-linejoin:miter;stroke-width:0.8;\"/>\r\n   </g>\r\n   <g id=\"patch_5\">\r\n    <path d=\"M 345.5 224.64 \r\nL 345.5 7.2 \r\n\" style=\"fill:none;stroke:#000000;stroke-linecap:square;stroke-linejoin:miter;stroke-width:0.8;\"/>\r\n   </g>\r\n   <g id=\"patch_6\">\r\n    <path d=\"M 10.7 224.64 \r\nL 345.5 224.64 \r\n\" style=\"fill:none;stroke:#000000;stroke-linecap:square;stroke-linejoin:miter;stroke-width:0.8;\"/>\r\n   </g>\r\n   <g id=\"patch_7\">\r\n    <path d=\"M 10.7 7.2 \r\nL 345.5 7.2 \r\n\" style=\"fill:none;stroke:#000000;stroke-linecap:square;stroke-linejoin:miter;stroke-width:0.8;\"/>\r\n   </g>\r\n  </g>\r\n </g>\r\n <defs>\r\n  <clipPath id=\"p1503a31e66\">\r\n   <rect height=\"217.44\" width=\"334.8\" x=\"10.7\" y=\"7.2\"/>\r\n  </clipPath>\r\n </defs>\r\n</svg>\r\n",
      "image/png": "[encoded data removed]"
     },
     "metadata": {
      "needs_background": "light"
     }
    }
   ],
   "source": [
    "# Creating box plot\n",
    "sns.boxplot(df1['rating'])"
   ]
  },
  {
   "cell_type": "markdown",
   "metadata": {},
   "source": [
    "# 9. Price Vs Retail Price"
   ]
  },
  {
   "cell_type": "code",
   "execution_count": 14,
   "metadata": {},
   "outputs": [
    {
     "output_type": "execute_result",
     "data": {
      "text/plain": [
       "<AxesSubplot:xlabel='price', ylabel='Density'>"
      ]
     },
     "metadata": {},
     "execution_count": 14
    },
    {
     "output_type": "display_data",
     "data": {
      "text/plain": "<Figure size 432x288 with 1 Axes>",
      "image/svg+xml": "<?xml version=\"1.0\" encoding=\"utf-8\" standalone=\"no\"?>\r\n<!DOCTYPE svg PUBLIC \"-//W3C//DTD SVG 1.1//EN\"\r\n  \"http://www.w3.org/Graphics/SVG/1.1/DTD/svg11.dtd\">\r\n<!-- Created with matplotlib (https://matplotlib.org/) -->\r\n<svg height=\"262.19625pt\" version=\"1.1\" viewBox=\"0 0 392.14375 262.19625\" width=\"392.14375pt\" xmlns=\"http://www.w3.org/2000/svg\" xmlns:xlink=\"http://www.w3.org/1999/xlink\">\r\n <metadata>\r\n  <rdf:RDF xmlns:cc=\"http://creativecommons.org/ns#\" xmlns:dc=\"http://purl.org/dc/elements/1.1/\" xmlns:rdf=\"http://www.w3.org/1999/02/22-rdf-syntax-ns#\">\r\n   <cc:Work>\r\n    <dc:type rdf:resource=\"http://purl.org/dc/dcmitype/StillImage\"/>\r\n    <dc:date>2020-12-01T14:01:11.031974</dc:date>\r\n    <dc:format>image/svg+xml</dc:format>\r\n    <dc:creator>\r\n     <cc:Agent>\r\n      <dc:title>Matplotlib v3.3.2, https://matplotlib.org/</dc:title>\r\n     </cc:Agent>\r\n    </dc:creator>\r\n   </cc:Work>\r\n  </rdf:RDF>\r\n </metadata>\r\n <defs>\r\n  <style type=\"text/css\">*{stroke-linecap:butt;stroke-linejoin:round;}</style>\r\n </defs>\r\n <g id=\"figure_1\">\r\n  <g id=\"patch_1\">\r\n   <path d=\"M 0 262.19625 \r\nL 392.14375 262.19625 \r\nL 392.14375 0 \r\nL 0 0 \r\nz\r\n\" style=\"fill:none;\"/>\r\n  </g>\r\n  <g id=\"axes_1\">\r\n   <g id=\"patch_2\">\r\n    <path d=\"M 50.14375 224.64 \r\nL 384.94375 224.64 \r\nL 384.94375 7.2 \r\nL 50.14375 7.2 \r\nz\r\n\" style=\"fill:#ffffff;\"/>\r\n   </g>\r\n   <g id=\"matplotlib.axis_1\">\r\n    <g id=\"xtick_1\">\r\n     <g id=\"line2d_1\">\r\n      <defs>\r\n       <path d=\"M 0 0 \r\nL 0 3.5 \r\n\" id=\"m6b371b8f84\" style=\"stroke:#000000;stroke-width:0.8;\"/>\r\n      </defs>\r\n      <g>\r\n       <use style=\"stroke:#000000;stroke-width:0.8;\" x=\"86.095788\" xlink:href=\"#m6b371b8f84\" y=\"224.64\"/>\r\n      </g>\r\n     </g>\r\n     <g id=\"text_1\">\r\n      <!-- 0 -->\r\n      <g transform=\"translate(82.914538 239.238437)scale(0.1 -0.1)\">\r\n       <defs>\r\n        <path d=\"M 31.78125 66.40625 \r\nQ 24.171875 66.40625 20.328125 58.90625 \r\nQ 16.5 51.421875 16.5 36.375 \r\nQ 16.5 21.390625 20.328125 13.890625 \r\nQ 24.171875 6.390625 31.78125 6.390625 \r\nQ 39.453125 6.390625 43.28125 13.890625 \r\nQ 47.125 21.390625 47.125 36.375 \r\nQ 47.125 51.421875 43.28125 58.90625 \r\nQ 39.453125 66.40625 31.78125 66.40625 \r\nz\r\nM 31.78125 74.21875 \r\nQ 44.046875 74.21875 50.515625 64.515625 \r\nQ 56.984375 54.828125 56.984375 36.375 \r\nQ 56.984375 17.96875 50.515625 8.265625 \r\nQ 44.046875 -1.421875 31.78125 -1.421875 \r\nQ 19.53125 -1.421875 13.0625 8.265625 \r\nQ 6.59375 17.96875 6.59375 36.375 \r\nQ 6.59375 54.828125 13.0625 64.515625 \r\nQ 19.53125 74.21875 31.78125 74.21875 \r\nz\r\n\" id=\"DejaVuSans-48\"/>\r\n       </defs>\r\n       <use xlink:href=\"#DejaVuSans-48\"/>\r\n      </g>\r\n     </g>\r\n    </g>\r\n    <g id=\"xtick_2\">\r\n     <g id=\"line2d_2\">\r\n      <g>\r\n       <use style=\"stroke:#000000;stroke-width:0.8;\" x=\"138.051504\" xlink:href=\"#m6b371b8f84\" y=\"224.64\"/>\r\n      </g>\r\n     </g>\r\n     <g id=\"text_2\">\r\n      <!-- 50 -->\r\n      <g transform=\"translate(131.689004 239.238437)scale(0.1 -0.1)\">\r\n       <defs>\r\n        <path d=\"M 10.796875 72.90625 \r\nL 49.515625 72.90625 \r\nL 49.515625 64.59375 \r\nL 19.828125 64.59375 \r\nL 19.828125 46.734375 \r\nQ 21.96875 47.46875 24.109375 47.828125 \r\nQ 26.265625 48.1875 28.421875 48.1875 \r\nQ 40.625 48.1875 47.75 41.5 \r\nQ 54.890625 34.8125 54.890625 23.390625 \r\nQ 54.890625 11.625 47.5625 5.09375 \r\nQ 40.234375 -1.421875 26.90625 -1.421875 \r\nQ 22.3125 -1.421875 17.546875 -0.640625 \r\nQ 12.796875 0.140625 7.71875 1.703125 \r\nL 7.71875 11.625 \r\nQ 12.109375 9.234375 16.796875 8.0625 \r\nQ 21.484375 6.890625 26.703125 6.890625 \r\nQ 35.15625 6.890625 40.078125 11.328125 \r\nQ 45.015625 15.765625 45.015625 23.390625 \r\nQ 45.015625 31 40.078125 35.4375 \r\nQ 35.15625 39.890625 26.703125 39.890625 \r\nQ 22.75 39.890625 18.8125 39.015625 \r\nQ 14.890625 38.140625 10.796875 36.28125 \r\nz\r\n\" id=\"DejaVuSans-53\"/>\r\n       </defs>\r\n       <use xlink:href=\"#DejaVuSans-53\"/>\r\n       <use x=\"63.623047\" xlink:href=\"#DejaVuSans-48\"/>\r\n      </g>\r\n     </g>\r\n    </g>\r\n    <g id=\"xtick_3\">\r\n     <g id=\"line2d_3\">\r\n      <g>\r\n       <use style=\"stroke:#000000;stroke-width:0.8;\" x=\"190.00722\" xlink:href=\"#m6b371b8f84\" y=\"224.64\"/>\r\n      </g>\r\n     </g>\r\n     <g id=\"text_3\">\r\n      <!-- 100 -->\r\n      <g transform=\"translate(180.46347 239.238437)scale(0.1 -0.1)\">\r\n       <defs>\r\n        <path d=\"M 12.40625 8.296875 \r\nL 28.515625 8.296875 \r\nL 28.515625 63.921875 \r\nL 10.984375 60.40625 \r\nL 10.984375 69.390625 \r\nL 28.421875 72.90625 \r\nL 38.28125 72.90625 \r\nL 38.28125 8.296875 \r\nL 54.390625 8.296875 \r\nL 54.390625 0 \r\nL 12.40625 0 \r\nz\r\n\" id=\"DejaVuSans-49\"/>\r\n       </defs>\r\n       <use xlink:href=\"#DejaVuSans-49\"/>\r\n       <use x=\"63.623047\" xlink:href=\"#DejaVuSans-48\"/>\r\n       <use x=\"127.246094\" xlink:href=\"#DejaVuSans-48\"/>\r\n      </g>\r\n     </g>\r\n    </g>\r\n    <g id=\"xtick_4\">\r\n     <g id=\"line2d_4\">\r\n      <g>\r\n       <use style=\"stroke:#000000;stroke-width:0.8;\" x=\"241.962937\" xlink:href=\"#m6b371b8f84\" y=\"224.64\"/>\r\n      </g>\r\n     </g>\r\n     <g id=\"text_4\">\r\n      <!-- 150 -->\r\n      <g transform=\"translate(232.419187 239.238437)scale(0.1 -0.1)\">\r\n       <use xlink:href=\"#DejaVuSans-49\"/>\r\n       <use x=\"63.623047\" xlink:href=\"#DejaVuSans-53\"/>\r\n       <use x=\"127.246094\" xlink:href=\"#DejaVuSans-48\"/>\r\n      </g>\r\n     </g>\r\n    </g>\r\n    <g id=\"xtick_5\">\r\n     <g id=\"line2d_5\">\r\n      <g>\r\n       <use style=\"stroke:#000000;stroke-width:0.8;\" x=\"293.918653\" xlink:href=\"#m6b371b8f84\" y=\"224.64\"/>\r\n      </g>\r\n     </g>\r\n     <g id=\"text_5\">\r\n      <!-- 200 -->\r\n      <g transform=\"translate(284.374903 239.238437)scale(0.1 -0.1)\">\r\n       <defs>\r\n        <path d=\"M 19.1875 8.296875 \r\nL 53.609375 8.296875 \r\nL 53.609375 0 \r\nL 7.328125 0 \r\nL 7.328125 8.296875 \r\nQ 12.9375 14.109375 22.625 23.890625 \r\nQ 32.328125 33.6875 34.8125 36.53125 \r\nQ 39.546875 41.84375 41.421875 45.53125 \r\nQ 43.3125 49.21875 43.3125 52.78125 \r\nQ 43.3125 58.59375 39.234375 62.25 \r\nQ 35.15625 65.921875 28.609375 65.921875 \r\nQ 23.96875 65.921875 18.8125 64.3125 \r\nQ 13.671875 62.703125 7.8125 59.421875 \r\nL 7.8125 69.390625 \r\nQ 13.765625 71.78125 18.9375 73 \r\nQ 24.125 74.21875 28.421875 74.21875 \r\nQ 39.75 74.21875 46.484375 68.546875 \r\nQ 53.21875 62.890625 53.21875 53.421875 \r\nQ 53.21875 48.921875 51.53125 44.890625 \r\nQ 49.859375 40.875 45.40625 35.40625 \r\nQ 44.1875 33.984375 37.640625 27.21875 \r\nQ 31.109375 20.453125 19.1875 8.296875 \r\nz\r\n\" id=\"DejaVuSans-50\"/>\r\n       </defs>\r\n       <use xlink:href=\"#DejaVuSans-50\"/>\r\n       <use x=\"63.623047\" xlink:href=\"#DejaVuSans-48\"/>\r\n       <use x=\"127.246094\" xlink:href=\"#DejaVuSans-48\"/>\r\n      </g>\r\n     </g>\r\n    </g>\r\n    <g id=\"xtick_6\">\r\n     <g id=\"line2d_6\">\r\n      <g>\r\n       <use style=\"stroke:#000000;stroke-width:0.8;\" x=\"345.874369\" xlink:href=\"#m6b371b8f84\" y=\"224.64\"/>\r\n      </g>\r\n     </g>\r\n     <g id=\"text_6\">\r\n      <!-- 250 -->\r\n      <g transform=\"translate(336.330619 239.238437)scale(0.1 -0.1)\">\r\n       <use xlink:href=\"#DejaVuSans-50\"/>\r\n       <use x=\"63.623047\" xlink:href=\"#DejaVuSans-53\"/>\r\n       <use x=\"127.246094\" xlink:href=\"#DejaVuSans-48\"/>\r\n      </g>\r\n     </g>\r\n    </g>\r\n    <g id=\"text_7\">\r\n     <!-- price -->\r\n     <g transform=\"translate(205.099219 252.916562)scale(0.1 -0.1)\">\r\n      <defs>\r\n       <path d=\"M 18.109375 8.203125 \r\nL 18.109375 -20.796875 \r\nL 9.078125 -20.796875 \r\nL 9.078125 54.6875 \r\nL 18.109375 54.6875 \r\nL 18.109375 46.390625 \r\nQ 20.953125 51.265625 25.265625 53.625 \r\nQ 29.59375 56 35.59375 56 \r\nQ 45.5625 56 51.78125 48.09375 \r\nQ 58.015625 40.1875 58.015625 27.296875 \r\nQ 58.015625 14.40625 51.78125 6.484375 \r\nQ 45.5625 -1.421875 35.59375 -1.421875 \r\nQ 29.59375 -1.421875 25.265625 0.953125 \r\nQ 20.953125 3.328125 18.109375 8.203125 \r\nz\r\nM 48.6875 27.296875 \r\nQ 48.6875 37.203125 44.609375 42.84375 \r\nQ 40.53125 48.484375 33.40625 48.484375 \r\nQ 26.265625 48.484375 22.1875 42.84375 \r\nQ 18.109375 37.203125 18.109375 27.296875 \r\nQ 18.109375 17.390625 22.1875 11.75 \r\nQ 26.265625 6.109375 33.40625 6.109375 \r\nQ 40.53125 6.109375 44.609375 11.75 \r\nQ 48.6875 17.390625 48.6875 27.296875 \r\nz\r\n\" id=\"DejaVuSans-112\"/>\r\n       <path d=\"M 41.109375 46.296875 \r\nQ 39.59375 47.171875 37.8125 47.578125 \r\nQ 36.03125 48 33.890625 48 \r\nQ 26.265625 48 22.1875 43.046875 \r\nQ 18.109375 38.09375 18.109375 28.8125 \r\nL 18.109375 0 \r\nL 9.078125 0 \r\nL 9.078125 54.6875 \r\nL 18.109375 54.6875 \r\nL 18.109375 46.1875 \r\nQ 20.953125 51.171875 25.484375 53.578125 \r\nQ 30.03125 56 36.53125 56 \r\nQ 37.453125 56 38.578125 55.875 \r\nQ 39.703125 55.765625 41.0625 55.515625 \r\nz\r\n\" id=\"DejaVuSans-114\"/>\r\n       <path d=\"M 9.421875 54.6875 \r\nL 18.40625 54.6875 \r\nL 18.40625 0 \r\nL 9.421875 0 \r\nz\r\nM 9.421875 75.984375 \r\nL 18.40625 75.984375 \r\nL 18.40625 64.59375 \r\nL 9.421875 64.59375 \r\nz\r\n\" id=\"DejaVuSans-105\"/>\r\n       <path d=\"M 48.78125 52.59375 \r\nL 48.78125 44.1875 \r\nQ 44.96875 46.296875 41.140625 47.34375 \r\nQ 37.3125 48.390625 33.40625 48.390625 \r\nQ 24.65625 48.390625 19.8125 42.84375 \r\nQ 14.984375 37.3125 14.984375 27.296875 \r\nQ 14.984375 17.28125 19.8125 11.734375 \r\nQ 24.65625 6.203125 33.40625 6.203125 \r\nQ 37.3125 6.203125 41.140625 7.25 \r\nQ 44.96875 8.296875 48.78125 10.40625 \r\nL 48.78125 2.09375 \r\nQ 45.015625 0.34375 40.984375 -0.53125 \r\nQ 36.96875 -1.421875 32.421875 -1.421875 \r\nQ 20.0625 -1.421875 12.78125 6.34375 \r\nQ 5.515625 14.109375 5.515625 27.296875 \r\nQ 5.515625 40.671875 12.859375 48.328125 \r\nQ 20.21875 56 33.015625 56 \r\nQ 37.15625 56 41.109375 55.140625 \r\nQ 45.0625 54.296875 48.78125 52.59375 \r\nz\r\n\" id=\"DejaVuSans-99\"/>\r\n       <path d=\"M 56.203125 29.59375 \r\nL 56.203125 25.203125 \r\nL 14.890625 25.203125 \r\nQ 15.484375 15.921875 20.484375 11.0625 \r\nQ 25.484375 6.203125 34.421875 6.203125 \r\nQ 39.59375 6.203125 44.453125 7.46875 \r\nQ 49.3125 8.734375 54.109375 11.28125 \r\nL 54.109375 2.78125 \r\nQ 49.265625 0.734375 44.1875 -0.34375 \r\nQ 39.109375 -1.421875 33.890625 -1.421875 \r\nQ 20.796875 -1.421875 13.15625 6.1875 \r\nQ 5.515625 13.8125 5.515625 26.8125 \r\nQ 5.515625 40.234375 12.765625 48.109375 \r\nQ 20.015625 56 32.328125 56 \r\nQ 43.359375 56 49.78125 48.890625 \r\nQ 56.203125 41.796875 56.203125 29.59375 \r\nz\r\nM 47.21875 32.234375 \r\nQ 47.125 39.59375 43.09375 43.984375 \r\nQ 39.0625 48.390625 32.421875 48.390625 \r\nQ 24.90625 48.390625 20.390625 44.140625 \r\nQ 15.875 39.890625 15.1875 32.171875 \r\nz\r\n\" id=\"DejaVuSans-101\"/>\r\n      </defs>\r\n      <use xlink:href=\"#DejaVuSans-112\"/>\r\n      <use x=\"63.476562\" xlink:href=\"#DejaVuSans-114\"/>\r\n      <use x=\"104.589844\" xlink:href=\"#DejaVuSans-105\"/>\r\n      <use x=\"132.373047\" xlink:href=\"#DejaVuSans-99\"/>\r\n      <use x=\"187.353516\" xlink:href=\"#DejaVuSans-101\"/>\r\n     </g>\r\n    </g>\r\n   </g>\r\n   <g id=\"matplotlib.axis_2\">\r\n    <g id=\"ytick_1\">\r\n     <g id=\"line2d_7\">\r\n      <defs>\r\n       <path d=\"M 0 0 \r\nL -3.5 0 \r\n\" id=\"m564a4402cd\" style=\"stroke:#000000;stroke-width:0.8;\"/>\r\n      </defs>\r\n      <g>\r\n       <use style=\"stroke:#000000;stroke-width:0.8;\" x=\"50.14375\" xlink:href=\"#m564a4402cd\" y=\"224.64\"/>\r\n      </g>\r\n     </g>\r\n     <g id=\"text_8\">\r\n      <!-- 0.00 -->\r\n      <g transform=\"translate(20.878125 228.439219)scale(0.1 -0.1)\">\r\n       <defs>\r\n        <path d=\"M 10.6875 12.40625 \r\nL 21 12.40625 \r\nL 21 0 \r\nL 10.6875 0 \r\nz\r\n\" id=\"DejaVuSans-46\"/>\r\n       </defs>\r\n       <use xlink:href=\"#DejaVuSans-48\"/>\r\n       <use x=\"63.623047\" xlink:href=\"#DejaVuSans-46\"/>\r\n       <use x=\"95.410156\" xlink:href=\"#DejaVuSans-48\"/>\r\n       <use x=\"159.033203\" xlink:href=\"#DejaVuSans-48\"/>\r\n      </g>\r\n     </g>\r\n    </g>\r\n    <g id=\"ytick_2\">\r\n     <g id=\"line2d_8\">\r\n      <g>\r\n       <use style=\"stroke:#000000;stroke-width:0.8;\" x=\"50.14375\" xlink:href=\"#m564a4402cd\" y=\"190.995173\"/>\r\n      </g>\r\n     </g>\r\n     <g id=\"text_9\">\r\n      <!-- 0.02 -->\r\n      <g transform=\"translate(20.878125 194.794391)scale(0.1 -0.1)\">\r\n       <use xlink:href=\"#DejaVuSans-48\"/>\r\n       <use x=\"63.623047\" xlink:href=\"#DejaVuSans-46\"/>\r\n       <use x=\"95.410156\" xlink:href=\"#DejaVuSans-48\"/>\r\n       <use x=\"159.033203\" xlink:href=\"#DejaVuSans-50\"/>\r\n      </g>\r\n     </g>\r\n    </g>\r\n    <g id=\"ytick_3\">\r\n     <g id=\"line2d_9\">\r\n      <g>\r\n       <use style=\"stroke:#000000;stroke-width:0.8;\" x=\"50.14375\" xlink:href=\"#m564a4402cd\" y=\"157.350345\"/>\r\n      </g>\r\n     </g>\r\n     <g id=\"text_10\">\r\n      <!-- 0.04 -->\r\n      <g transform=\"translate(20.878125 161.149564)scale(0.1 -0.1)\">\r\n       <defs>\r\n        <path d=\"M 37.796875 64.3125 \r\nL 12.890625 25.390625 \r\nL 37.796875 25.390625 \r\nz\r\nM 35.203125 72.90625 \r\nL 47.609375 72.90625 \r\nL 47.609375 25.390625 \r\nL 58.015625 25.390625 \r\nL 58.015625 17.1875 \r\nL 47.609375 17.1875 \r\nL 47.609375 0 \r\nL 37.796875 0 \r\nL 37.796875 17.1875 \r\nL 4.890625 17.1875 \r\nL 4.890625 26.703125 \r\nz\r\n\" id=\"DejaVuSans-52\"/>\r\n       </defs>\r\n       <use xlink:href=\"#DejaVuSans-48\"/>\r\n       <use x=\"63.623047\" xlink:href=\"#DejaVuSans-46\"/>\r\n       <use x=\"95.410156\" xlink:href=\"#DejaVuSans-48\"/>\r\n       <use x=\"159.033203\" xlink:href=\"#DejaVuSans-52\"/>\r\n      </g>\r\n     </g>\r\n    </g>\r\n    <g id=\"ytick_4\">\r\n     <g id=\"line2d_10\">\r\n      <g>\r\n       <use style=\"stroke:#000000;stroke-width:0.8;\" x=\"50.14375\" xlink:href=\"#m564a4402cd\" y=\"123.705518\"/>\r\n      </g>\r\n     </g>\r\n     <g id=\"text_11\">\r\n      <!-- 0.06 -->\r\n      <g transform=\"translate(20.878125 127.504737)scale(0.1 -0.1)\">\r\n       <defs>\r\n        <path d=\"M 33.015625 40.375 \r\nQ 26.375 40.375 22.484375 35.828125 \r\nQ 18.609375 31.296875 18.609375 23.390625 \r\nQ 18.609375 15.53125 22.484375 10.953125 \r\nQ 26.375 6.390625 33.015625 6.390625 \r\nQ 39.65625 6.390625 43.53125 10.953125 \r\nQ 47.40625 15.53125 47.40625 23.390625 \r\nQ 47.40625 31.296875 43.53125 35.828125 \r\nQ 39.65625 40.375 33.015625 40.375 \r\nz\r\nM 52.59375 71.296875 \r\nL 52.59375 62.3125 \r\nQ 48.875 64.0625 45.09375 64.984375 \r\nQ 41.3125 65.921875 37.59375 65.921875 \r\nQ 27.828125 65.921875 22.671875 59.328125 \r\nQ 17.53125 52.734375 16.796875 39.40625 \r\nQ 19.671875 43.65625 24.015625 45.921875 \r\nQ 28.375 48.1875 33.59375 48.1875 \r\nQ 44.578125 48.1875 50.953125 41.515625 \r\nQ 57.328125 34.859375 57.328125 23.390625 \r\nQ 57.328125 12.15625 50.6875 5.359375 \r\nQ 44.046875 -1.421875 33.015625 -1.421875 \r\nQ 20.359375 -1.421875 13.671875 8.265625 \r\nQ 6.984375 17.96875 6.984375 36.375 \r\nQ 6.984375 53.65625 15.1875 63.9375 \r\nQ 23.390625 74.21875 37.203125 74.21875 \r\nQ 40.921875 74.21875 44.703125 73.484375 \r\nQ 48.484375 72.75 52.59375 71.296875 \r\nz\r\n\" id=\"DejaVuSans-54\"/>\r\n       </defs>\r\n       <use xlink:href=\"#DejaVuSans-48\"/>\r\n       <use x=\"63.623047\" xlink:href=\"#DejaVuSans-46\"/>\r\n       <use x=\"95.410156\" xlink:href=\"#DejaVuSans-48\"/>\r\n       <use x=\"159.033203\" xlink:href=\"#DejaVuSans-54\"/>\r\n      </g>\r\n     </g>\r\n    </g>\r\n    <g id=\"ytick_5\">\r\n     <g id=\"line2d_11\">\r\n      <g>\r\n       <use style=\"stroke:#000000;stroke-width:0.8;\" x=\"50.14375\" xlink:href=\"#m564a4402cd\" y=\"90.060691\"/>\r\n      </g>\r\n     </g>\r\n     <g id=\"text_12\">\r\n      <!-- 0.08 -->\r\n      <g transform=\"translate(20.878125 93.859909)scale(0.1 -0.1)\">\r\n       <defs>\r\n        <path d=\"M 31.78125 34.625 \r\nQ 24.75 34.625 20.71875 30.859375 \r\nQ 16.703125 27.09375 16.703125 20.515625 \r\nQ 16.703125 13.921875 20.71875 10.15625 \r\nQ 24.75 6.390625 31.78125 6.390625 \r\nQ 38.8125 6.390625 42.859375 10.171875 \r\nQ 46.921875 13.96875 46.921875 20.515625 \r\nQ 46.921875 27.09375 42.890625 30.859375 \r\nQ 38.875 34.625 31.78125 34.625 \r\nz\r\nM 21.921875 38.8125 \r\nQ 15.578125 40.375 12.03125 44.71875 \r\nQ 8.5 49.078125 8.5 55.328125 \r\nQ 8.5 64.0625 14.71875 69.140625 \r\nQ 20.953125 74.21875 31.78125 74.21875 \r\nQ 42.671875 74.21875 48.875 69.140625 \r\nQ 55.078125 64.0625 55.078125 55.328125 \r\nQ 55.078125 49.078125 51.53125 44.71875 \r\nQ 48 40.375 41.703125 38.8125 \r\nQ 48.828125 37.15625 52.796875 32.3125 \r\nQ 56.78125 27.484375 56.78125 20.515625 \r\nQ 56.78125 9.90625 50.3125 4.234375 \r\nQ 43.84375 -1.421875 31.78125 -1.421875 \r\nQ 19.734375 -1.421875 13.25 4.234375 \r\nQ 6.78125 9.90625 6.78125 20.515625 \r\nQ 6.78125 27.484375 10.78125 32.3125 \r\nQ 14.796875 37.15625 21.921875 38.8125 \r\nz\r\nM 18.3125 54.390625 \r\nQ 18.3125 48.734375 21.84375 45.5625 \r\nQ 25.390625 42.390625 31.78125 42.390625 \r\nQ 38.140625 42.390625 41.71875 45.5625 \r\nQ 45.3125 48.734375 45.3125 54.390625 \r\nQ 45.3125 60.0625 41.71875 63.234375 \r\nQ 38.140625 66.40625 31.78125 66.40625 \r\nQ 25.390625 66.40625 21.84375 63.234375 \r\nQ 18.3125 60.0625 18.3125 54.390625 \r\nz\r\n\" id=\"DejaVuSans-56\"/>\r\n       </defs>\r\n       <use xlink:href=\"#DejaVuSans-48\"/>\r\n       <use x=\"63.623047\" xlink:href=\"#DejaVuSans-46\"/>\r\n       <use x=\"95.410156\" xlink:href=\"#DejaVuSans-48\"/>\r\n       <use x=\"159.033203\" xlink:href=\"#DejaVuSans-56\"/>\r\n      </g>\r\n     </g>\r\n    </g>\r\n    <g id=\"ytick_6\">\r\n     <g id=\"line2d_12\">\r\n      <g>\r\n       <use style=\"stroke:#000000;stroke-width:0.8;\" x=\"50.14375\" xlink:href=\"#m564a4402cd\" y=\"56.415863\"/>\r\n      </g>\r\n     </g>\r\n     <g id=\"text_13\">\r\n      <!-- 0.10 -->\r\n      <g transform=\"translate(20.878125 60.215082)scale(0.1 -0.1)\">\r\n       <use xlink:href=\"#DejaVuSans-48\"/>\r\n       <use x=\"63.623047\" xlink:href=\"#DejaVuSans-46\"/>\r\n       <use x=\"95.410156\" xlink:href=\"#DejaVuSans-49\"/>\r\n       <use x=\"159.033203\" xlink:href=\"#DejaVuSans-48\"/>\r\n      </g>\r\n     </g>\r\n    </g>\r\n    <g id=\"ytick_7\">\r\n     <g id=\"line2d_13\">\r\n      <g>\r\n       <use style=\"stroke:#000000;stroke-width:0.8;\" x=\"50.14375\" xlink:href=\"#m564a4402cd\" y=\"22.771036\"/>\r\n      </g>\r\n     </g>\r\n     <g id=\"text_14\">\r\n      <!-- 0.12 -->\r\n      <g transform=\"translate(20.878125 26.570255)scale(0.1 -0.1)\">\r\n       <use xlink:href=\"#DejaVuSans-48\"/>\r\n       <use x=\"63.623047\" xlink:href=\"#DejaVuSans-46\"/>\r\n       <use x=\"95.410156\" xlink:href=\"#DejaVuSans-49\"/>\r\n       <use x=\"159.033203\" xlink:href=\"#DejaVuSans-50\"/>\r\n      </g>\r\n     </g>\r\n    </g>\r\n    <g id=\"text_15\">\r\n     <!-- Density -->\r\n     <g transform=\"translate(14.798438 134.928594)rotate(-90)scale(0.1 -0.1)\">\r\n      <defs>\r\n       <path d=\"M 19.671875 64.796875 \r\nL 19.671875 8.109375 \r\nL 31.59375 8.109375 \r\nQ 46.6875 8.109375 53.6875 14.9375 \r\nQ 60.6875 21.78125 60.6875 36.53125 \r\nQ 60.6875 51.171875 53.6875 57.984375 \r\nQ 46.6875 64.796875 31.59375 64.796875 \r\nz\r\nM 9.8125 72.90625 \r\nL 30.078125 72.90625 \r\nQ 51.265625 72.90625 61.171875 64.09375 \r\nQ 71.09375 55.28125 71.09375 36.53125 \r\nQ 71.09375 17.671875 61.125 8.828125 \r\nQ 51.171875 0 30.078125 0 \r\nL 9.8125 0 \r\nz\r\n\" id=\"DejaVuSans-68\"/>\r\n       <path d=\"M 54.890625 33.015625 \r\nL 54.890625 0 \r\nL 45.90625 0 \r\nL 45.90625 32.71875 \r\nQ 45.90625 40.484375 42.875 44.328125 \r\nQ 39.84375 48.1875 33.796875 48.1875 \r\nQ 26.515625 48.1875 22.3125 43.546875 \r\nQ 18.109375 38.921875 18.109375 30.90625 \r\nL 18.109375 0 \r\nL 9.078125 0 \r\nL 9.078125 54.6875 \r\nL 18.109375 54.6875 \r\nL 18.109375 46.1875 \r\nQ 21.34375 51.125 25.703125 53.5625 \r\nQ 30.078125 56 35.796875 56 \r\nQ 45.21875 56 50.046875 50.171875 \r\nQ 54.890625 44.34375 54.890625 33.015625 \r\nz\r\n\" id=\"DejaVuSans-110\"/>\r\n       <path d=\"M 44.28125 53.078125 \r\nL 44.28125 44.578125 \r\nQ 40.484375 46.53125 36.375 47.5 \r\nQ 32.28125 48.484375 27.875 48.484375 \r\nQ 21.1875 48.484375 17.84375 46.4375 \r\nQ 14.5 44.390625 14.5 40.28125 \r\nQ 14.5 37.15625 16.890625 35.375 \r\nQ 19.28125 33.59375 26.515625 31.984375 \r\nL 29.59375 31.296875 \r\nQ 39.15625 29.25 43.1875 25.515625 \r\nQ 47.21875 21.78125 47.21875 15.09375 \r\nQ 47.21875 7.46875 41.1875 3.015625 \r\nQ 35.15625 -1.421875 24.609375 -1.421875 \r\nQ 20.21875 -1.421875 15.453125 -0.5625 \r\nQ 10.6875 0.296875 5.421875 2 \r\nL 5.421875 11.28125 \r\nQ 10.40625 8.6875 15.234375 7.390625 \r\nQ 20.0625 6.109375 24.8125 6.109375 \r\nQ 31.15625 6.109375 34.5625 8.28125 \r\nQ 37.984375 10.453125 37.984375 14.40625 \r\nQ 37.984375 18.0625 35.515625 20.015625 \r\nQ 33.0625 21.96875 24.703125 23.78125 \r\nL 21.578125 24.515625 \r\nQ 13.234375 26.265625 9.515625 29.90625 \r\nQ 5.8125 33.546875 5.8125 39.890625 \r\nQ 5.8125 47.609375 11.28125 51.796875 \r\nQ 16.75 56 26.8125 56 \r\nQ 31.78125 56 36.171875 55.265625 \r\nQ 40.578125 54.546875 44.28125 53.078125 \r\nz\r\n\" id=\"DejaVuSans-115\"/>\r\n       <path d=\"M 18.3125 70.21875 \r\nL 18.3125 54.6875 \r\nL 36.8125 54.6875 \r\nL 36.8125 47.703125 \r\nL 18.3125 47.703125 \r\nL 18.3125 18.015625 \r\nQ 18.3125 11.328125 20.140625 9.421875 \r\nQ 21.96875 7.515625 27.59375 7.515625 \r\nL 36.8125 7.515625 \r\nL 36.8125 0 \r\nL 27.59375 0 \r\nQ 17.1875 0 13.234375 3.875 \r\nQ 9.28125 7.765625 9.28125 18.015625 \r\nL 9.28125 47.703125 \r\nL 2.6875 47.703125 \r\nL 2.6875 54.6875 \r\nL 9.28125 54.6875 \r\nL 9.28125 70.21875 \r\nz\r\n\" id=\"DejaVuSans-116\"/>\r\n       <path d=\"M 32.171875 -5.078125 \r\nQ 28.375 -14.84375 24.75 -17.8125 \r\nQ 21.140625 -20.796875 15.09375 -20.796875 \r\nL 7.90625 -20.796875 \r\nL 7.90625 -13.28125 \r\nL 13.1875 -13.28125 \r\nQ 16.890625 -13.28125 18.9375 -11.515625 \r\nQ 21 -9.765625 23.484375 -3.21875 \r\nL 25.09375 0.875 \r\nL 2.984375 54.6875 \r\nL 12.5 54.6875 \r\nL 29.59375 11.921875 \r\nL 46.6875 54.6875 \r\nL 56.203125 54.6875 \r\nz\r\n\" id=\"DejaVuSans-121\"/>\r\n      </defs>\r\n      <use xlink:href=\"#DejaVuSans-68\"/>\r\n      <use x=\"77.001953\" xlink:href=\"#DejaVuSans-101\"/>\r\n      <use x=\"138.525391\" xlink:href=\"#DejaVuSans-110\"/>\r\n      <use x=\"201.904297\" xlink:href=\"#DejaVuSans-115\"/>\r\n      <use x=\"254.003906\" xlink:href=\"#DejaVuSans-105\"/>\r\n      <use x=\"281.787109\" xlink:href=\"#DejaVuSans-116\"/>\r\n      <use x=\"320.996094\" xlink:href=\"#DejaVuSans-121\"/>\r\n     </g>\r\n    </g>\r\n   </g>\r\n   <g id=\"line2d_14\">\r\n    <path clip-path=\"url(#pf4c38d8410)\" d=\"M 84.306637 224.598976 \r\nL 84.864768 224.386379 \r\nL 85.143834 224.070743 \r\nL 85.422899 223.44502 \r\nL 85.701965 222.292969 \r\nL 85.98103 220.326712 \r\nL 86.260095 217.22367 \r\nL 86.818226 206.67414 \r\nL 88.492619 162.98465 \r\nL 89.887946 142.002134 \r\nL 90.446076 124.562205 \r\nL 91.283273 84.072198 \r\nL 91.841404 59.403679 \r\nL 92.399534 46.779498 \r\nL 92.957665 40.609636 \r\nL 93.515796 29.401849 \r\nL 94.073927 17.554286 \r\nL 94.352992 17.585338 \r\nL 94.632058 24.456852 \r\nL 95.190188 57.841319 \r\nL 96.027385 115.436451 \r\nL 96.30645 123.65089 \r\nL 96.585516 124.17728 \r\nL 96.864581 118.611208 \r\nL 97.422712 102.469123 \r\nL 97.701777 98.643199 \r\nL 97.980843 100.101025 \r\nL 98.259908 106.517673 \r\nL 99.655235 154.690345 \r\nL 100.213366 165.530495 \r\nL 101.329627 182.045114 \r\nL 101.887758 188.090297 \r\nL 102.724955 195.811353 \r\nL 104.120282 212.875986 \r\nL 104.678412 215.916346 \r\nL 105.236543 217.12748 \r\nL 106.073739 218.675435 \r\nL 107.748132 222.316917 \r\nL 108.306263 222.690636 \r\nL 109.70159 222.906952 \r\nL 110.817851 223.414093 \r\nL 111.655048 223.531561 \r\nL 113.608506 223.674727 \r\nL 114.445702 223.984259 \r\nL 115.561963 224.465982 \r\nL 116.39916 224.610832 \r\nL 118.910748 224.639999 \r\nL 135.375607 224.533517 \r\nL 137.329065 224.18572 \r\nL 139.840654 224.634661 \r\nL 139.840654 224.634661 \r\n\" style=\"fill:none;stroke:#1f77b4;stroke-linecap:square;stroke-width:1.5;\"/>\r\n   </g>\r\n   <g id=\"line2d_15\">\r\n    <path clip-path=\"url(#pf4c38d8410)\" d=\"M 65.361932 224.573058 \r\nL 68.420863 224.374494 \r\nL 69.950328 224.142189 \r\nL 71.479794 223.743198 \r\nL 73.009259 223.087415 \r\nL 74.538725 222.056386 \r\nL 76.06819 220.50664 \r\nL 77.597656 218.281175 \r\nL 79.127121 215.23089 \r\nL 80.656587 211.245529 \r\nL 82.186052 206.290486 \r\nL 83.715518 200.442298 \r\nL 86.774449 187.054484 \r\nL 88.303914 180.333116 \r\nL 89.83338 174.278997 \r\nL 91.362845 169.411963 \r\nL 92.892311 166.16136 \r\nL 94.421776 164.796162 \r\nL 95.951242 165.381768 \r\nL 97.480708 167.773507 \r\nL 99.010173 171.647677 \r\nL 100.539639 176.561764 \r\nL 105.128035 192.873247 \r\nL 106.657501 197.617582 \r\nL 108.186966 201.688003 \r\nL 109.716432 205.055957 \r\nL 111.245897 207.772343 \r\nL 112.775363 209.934937 \r\nL 114.304828 211.658386 \r\nL 115.834294 213.05129 \r\nL 117.363759 214.202139 \r\nL 118.893225 215.173617 \r\nL 121.952156 216.709659 \r\nL 125.011087 217.766471 \r\nL 128.070018 218.356737 \r\nL 131.128949 218.558308 \r\nL 140.305742 218.647568 \r\nL 143.364673 218.947664 \r\nL 147.953069 219.654587 \r\nL 154.070931 220.635665 \r\nL 157.129862 220.9484 \r\nL 160.188793 221.065201 \r\nL 163.247724 220.973458 \r\nL 172.424517 220.3737 \r\nL 175.483448 220.616936 \r\nL 178.54238 221.179785 \r\nL 184.660242 222.530223 \r\nL 187.719173 222.960927 \r\nL 190.778104 223.180868 \r\nL 218.308483 224.111787 \r\nL 262.662983 224.259286 \r\nL 277.957638 224.619991 \r\nL 302.429086 224.64 \r\nL 339.136258 224.539719 \r\nL 349.842517 224.465527 \r\nL 369.725568 224.638331 \r\nL 369.725568 224.638331 \r\n\" style=\"fill:none;stroke:#ff7f0e;stroke-linecap:square;stroke-width:1.5;\"/>\r\n   </g>\r\n   <g id=\"patch_3\">\r\n    <path d=\"M 50.14375 224.64 \r\nL 50.14375 7.2 \r\n\" style=\"fill:none;stroke:#000000;stroke-linecap:square;stroke-linejoin:miter;stroke-width:0.8;\"/>\r\n   </g>\r\n   <g id=\"patch_4\">\r\n    <path d=\"M 384.94375 224.64 \r\nL 384.94375 7.2 \r\n\" style=\"fill:none;stroke:#000000;stroke-linecap:square;stroke-linejoin:miter;stroke-width:0.8;\"/>\r\n   </g>\r\n   <g id=\"patch_5\">\r\n    <path d=\"M 50.14375 224.64 \r\nL 384.94375 224.64 \r\n\" style=\"fill:none;stroke:#000000;stroke-linecap:square;stroke-linejoin:miter;stroke-width:0.8;\"/>\r\n   </g>\r\n   <g id=\"patch_6\">\r\n    <path d=\"M 50.14375 7.2 \r\nL 384.94375 7.2 \r\n\" style=\"fill:none;stroke:#000000;stroke-linecap:square;stroke-linejoin:miter;stroke-width:0.8;\"/>\r\n   </g>\r\n  </g>\r\n </g>\r\n <defs>\r\n  <clipPath id=\"pf4c38d8410\">\r\n   <rect height=\"217.44\" width=\"334.8\" x=\"50.14375\" y=\"7.2\"/>\r\n  </clipPath>\r\n </defs>\r\n</svg>\r\n",
      "image/png": "[encoded data removed]"
     },
     "metadata": {
      "needs_background": "light"
     }
    }
   ],
   "source": [
    "# Price Vs Retail Price Density graph\n",
    "sns.kdeplot(df1['price'])\n",
    "sns.kdeplot(df1['retail_price'])"
   ]
  },
  {
   "cell_type": "code",
   "execution_count": null,
   "metadata": {},
   "outputs": [],
   "source": []
  }
 ]
}